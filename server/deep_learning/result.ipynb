{
 "cells": [
  {
   "cell_type": "code",
   "execution_count": 8,
   "source": [
    "from ast import literal_eval\r\n",
    "import glob2\r\n",
    "import pandas as pd\r\n",
    "import numpy as np\r\n",
    "import json\r\n",
    "import csv\r\n",
    "import keras\r\n",
    "from keras.models import Sequential\r\n",
    "from keras.layers import Dense, Dropout, Flatten\r\n",
    "from keras.layers import Conv2D, MaxPooling2D\r\n",
    "from tensorflow.keras.utils import to_categorical\r\n",
    "from keras.preprocessing import image\r\n",
    "from sklearn.model_selection import train_test_split"
   ],
   "outputs": [],
   "metadata": {}
  },
  {
   "cell_type": "code",
   "execution_count": 15,
   "source": [
    "model_top = keras.models.load_model(\"model_top.h5\")"
   ],
   "outputs": [],
   "metadata": {}
  },
  {
   "cell_type": "code",
   "execution_count": null,
   "source": [
    "def result_col(cate, list):\r\n",
    "    # 여기에 이제 한글 정답값 리턴될 수 있도록 코드 짜야함.\r\n"
   ],
   "outputs": [],
   "metadata": {}
  },
  {
   "cell_type": "code",
   "execution_count": 16,
   "source": [
    "def result(cate, img):\r\n",
    "    img = image.load_img('../public/uploads/{}'.format(img), target_size=(400, 400, 3))\r\n",
    "    img = image.img_to_array(img)\r\n",
    "    img = img/255\r\n",
    "    return model_top.predict(img.reshape(1, 400, 400, 3))[0]"
   ],
   "outputs": [],
   "metadata": {}
  },
  {
   "cell_type": "code",
   "execution_count": 17,
   "source": [
    "print(result(\"top\", \"IMG-7626-1631034123730.jpg\"))"
   ],
   "outputs": [
    {
     "output_type": "stream",
     "name": "stdout",
     "text": [
      "[2.2489727e-03 1.5101203e-06 4.2379794e-01 4.8146936e-01 1.5133619e-04\n",
      " 2.8728247e-03 1.0080278e-02 9.7077525e-01 4.0762770e-05 9.6322298e-03\n",
      " 1.4849835e-06]\n"
     ]
    }
   ],
   "metadata": {}
  },
  {
   "cell_type": "code",
   "execution_count": 1,
   "source": [
    "jupyter nbconvert --to script result.py"
   ],
   "outputs": [
    {
     "output_type": "error",
     "ename": "SyntaxError",
     "evalue": "invalid syntax (Temp/ipykernel_18356/1259462011.py, line 1)",
     "traceback": [
      "\u001b[1;36m  File \u001b[1;32m\"c:\\Temp/ipykernel_18356/1259462011.py\"\u001b[1;36m, line \u001b[1;32m1\u001b[0m\n\u001b[1;33m    jupyter nbconvert --to script result.py\u001b[0m\n\u001b[1;37m            ^\u001b[0m\n\u001b[1;31mSyntaxError\u001b[0m\u001b[1;31m:\u001b[0m invalid syntax\n"
     ]
    }
   ],
   "metadata": {}
  }
 ],
 "metadata": {
  "orig_nbformat": 4,
  "language_info": {
   "name": "python",
   "version": "3.8.8",
   "mimetype": "text/x-python",
   "codemirror_mode": {
    "name": "ipython",
    "version": 3
   },
   "pygments_lexer": "ipython3",
   "nbconvert_exporter": "python",
   "file_extension": ".py"
  },
  "kernelspec": {
   "name": "python3",
   "display_name": "Python 3.8.8 64-bit"
  },
  "interpreter": {
   "hash": "1baa965d5efe3ac65b79dfc60c0d706280b1da80fedb7760faf2759126c4f253"
  }
 },
 "nbformat": 4,
 "nbformat_minor": 2
}