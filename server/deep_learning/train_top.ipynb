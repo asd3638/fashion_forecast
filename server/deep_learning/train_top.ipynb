{
 "cells": [
  {
   "cell_type": "code",
   "execution_count": 2,
   "metadata": {
    "collapsed": true
   },
   "outputs": [],
   "source": [
    "from ast import literal_eval\n",
    "import glob2\n",
    "import pandas as pd\n",
    "import numpy as np\n",
    "import json\n",
    "import csv\n",
    "import keras\n",
    "from keras.models import Sequential\n",
    "from keras.layers import Dense, Dropout, Flatten\n",
    "from keras.layers import Conv2D, MaxPooling2D\n",
    "from tensorflow.keras.utils import to_categorical\n",
    "from keras.preprocessing import image\n",
    "import matplotlib.pyplot as plt\n",
    "from sklearn.model_selection import train_test_split\n",
    "%matplotlib inline"
   ]
  },
  {
   "cell_type": "code",
   "execution_count": 46,
   "outputs": [
    {
     "data": {
      "text/plain": "       image_id                                         image_name  \\\n0        703911                                     (116)IMG_1.jpg   \n1        703912                                     (117)IMG_1.jpg   \n2        703914                                     (119)IMG_1.jpg   \n3        703917                                     (122)IMG_1.jpg   \n4        703918                                     (123)IMG_1.jpg   \n...         ...                                                ...   \n58135   1267719  20201117_001727_504-158884201120506600_1817439...   \n58136   1267826  20201117_001824_500번 나나린넨통팬츠-15888456106645400...   \n58137   1249213  20201117_231753_(SALE)디나-159161936189666000_42...   \n58138   1270277  20201117_234317_랑i방 쎄미 배기팬츠-159903239298905600...   \n58139   1272617  20201118_000011_드림-160214917533834100_77384581...   \n\n       image_height  image_width top_cate top_len top_mat  \n0              1066          800     블라우스      긴팔      우븐  \n1              1066          800     블라우스      긴팔      우븐  \n2               600          800     블라우스      긴팔      우븐  \n3              1066          800     블라우스      긴팔      우븐  \n4              1066          800     블라우스      긴팔      우븐  \n...             ...          ...      ...     ...     ...  \n58135          1066          800      티셔츠    7부소매      저지  \n58136          1066          800      티셔츠      반팔      저지  \n58137          1066          800      티셔츠      반팔      우븐  \n58138          1066          800       셔츠      긴팔      우븐  \n58139          1066          800     니트웨어      긴팔      니트  \n\n[58140 rows x 7 columns]",
      "text/html": "<div>\n<style scoped>\n    .dataframe tbody tr th:only-of-type {\n        vertical-align: middle;\n    }\n\n    .dataframe tbody tr th {\n        vertical-align: top;\n    }\n\n    .dataframe thead th {\n        text-align: right;\n    }\n</style>\n<table border=\"1\" class=\"dataframe\">\n  <thead>\n    <tr style=\"text-align: right;\">\n      <th></th>\n      <th>image_id</th>\n      <th>image_name</th>\n      <th>image_height</th>\n      <th>image_width</th>\n      <th>top_cate</th>\n      <th>top_len</th>\n      <th>top_mat</th>\n    </tr>\n  </thead>\n  <tbody>\n    <tr>\n      <th>0</th>\n      <td>703911</td>\n      <td>(116)IMG_1.jpg</td>\n      <td>1066</td>\n      <td>800</td>\n      <td>블라우스</td>\n      <td>긴팔</td>\n      <td>우븐</td>\n    </tr>\n    <tr>\n      <th>1</th>\n      <td>703912</td>\n      <td>(117)IMG_1.jpg</td>\n      <td>1066</td>\n      <td>800</td>\n      <td>블라우스</td>\n      <td>긴팔</td>\n      <td>우븐</td>\n    </tr>\n    <tr>\n      <th>2</th>\n      <td>703914</td>\n      <td>(119)IMG_1.jpg</td>\n      <td>600</td>\n      <td>800</td>\n      <td>블라우스</td>\n      <td>긴팔</td>\n      <td>우븐</td>\n    </tr>\n    <tr>\n      <th>3</th>\n      <td>703917</td>\n      <td>(122)IMG_1.jpg</td>\n      <td>1066</td>\n      <td>800</td>\n      <td>블라우스</td>\n      <td>긴팔</td>\n      <td>우븐</td>\n    </tr>\n    <tr>\n      <th>4</th>\n      <td>703918</td>\n      <td>(123)IMG_1.jpg</td>\n      <td>1066</td>\n      <td>800</td>\n      <td>블라우스</td>\n      <td>긴팔</td>\n      <td>우븐</td>\n    </tr>\n    <tr>\n      <th>...</th>\n      <td>...</td>\n      <td>...</td>\n      <td>...</td>\n      <td>...</td>\n      <td>...</td>\n      <td>...</td>\n      <td>...</td>\n    </tr>\n    <tr>\n      <th>58135</th>\n      <td>1267719</td>\n      <td>20201117_001727_504-158884201120506600_1817439...</td>\n      <td>1066</td>\n      <td>800</td>\n      <td>티셔츠</td>\n      <td>7부소매</td>\n      <td>저지</td>\n    </tr>\n    <tr>\n      <th>58136</th>\n      <td>1267826</td>\n      <td>20201117_001824_500번 나나린넨통팬츠-15888456106645400...</td>\n      <td>1066</td>\n      <td>800</td>\n      <td>티셔츠</td>\n      <td>반팔</td>\n      <td>저지</td>\n    </tr>\n    <tr>\n      <th>58137</th>\n      <td>1249213</td>\n      <td>20201117_231753_(SALE)디나-159161936189666000_42...</td>\n      <td>1066</td>\n      <td>800</td>\n      <td>티셔츠</td>\n      <td>반팔</td>\n      <td>우븐</td>\n    </tr>\n    <tr>\n      <th>58138</th>\n      <td>1270277</td>\n      <td>20201117_234317_랑i방 쎄미 배기팬츠-159903239298905600...</td>\n      <td>1066</td>\n      <td>800</td>\n      <td>셔츠</td>\n      <td>긴팔</td>\n      <td>우븐</td>\n    </tr>\n    <tr>\n      <th>58139</th>\n      <td>1272617</td>\n      <td>20201118_000011_드림-160214917533834100_77384581...</td>\n      <td>1066</td>\n      <td>800</td>\n      <td>니트웨어</td>\n      <td>긴팔</td>\n      <td>니트</td>\n    </tr>\n  </tbody>\n</table>\n<p>58140 rows × 7 columns</p>\n</div>"
     },
     "execution_count": 46,
     "metadata": {},
     "output_type": "execute_result"
    }
   ],
   "source": [
    "top = pd.read_csv('label_top.csv', encoding='utf-8')\n",
    "top"
   ],
   "metadata": {
    "collapsed": false,
    "pycharm": {
     "name": "#%%\n"
    }
   }
  },
  {
   "cell_type": "code",
   "execution_count": 47,
   "outputs": [
    {
     "data": {
      "text/plain": "       image_id                                         image_name  \\\n0        703911                                     (116)IMG_1.jpg   \n1        703912                                     (117)IMG_1.jpg   \n2        703914                                     (119)IMG_1.jpg   \n3        703917                                     (122)IMG_1.jpg   \n4        703918                                     (123)IMG_1.jpg   \n...         ...                                                ...   \n58135   1267719  20201117_001727_504-158884201120506600_1817439...   \n58136   1267826  20201117_001824_500번 나나린넨통팬츠-15888456106645400...   \n58137   1249213  20201117_231753_(SALE)디나-159161936189666000_42...   \n58138   1270277  20201117_234317_랑i방 쎄미 배기팬츠-159903239298905600...   \n58139   1272617  20201118_000011_드림-160214917533834100_77384581...   \n\n       image_height  image_width  top_cate_니트웨어  top_cate_브라탑  top_cate_블라우스  \\\n0              1066          800              0             0              1   \n1              1066          800              0             0              1   \n2               600          800              0             0              1   \n3              1066          800              0             0              1   \n4              1066          800              0             0              1   \n...             ...          ...            ...           ...            ...   \n58135          1066          800              0             0              0   \n58136          1066          800              0             0              0   \n58137          1066          800              0             0              0   \n58138          1066          800              0             0              0   \n58139          1066          800              1             0              0   \n\n       top_cate_셔츠  top_cate_탑  top_cate_티셔츠  ...  top_mat_우븐  top_mat_울/캐시미어  \\\n0                0           0             0  ...           1               0   \n1                0           0             0  ...           1               0   \n2                0           0             0  ...           1               0   \n3                0           0             0  ...           1               0   \n4                0           0             0  ...           1               0   \n...            ...         ...           ...  ...         ...             ...   \n58135            0           0             1  ...           0               0   \n58136            0           0             1  ...           0               0   \n58137            0           0             1  ...           1               0   \n58138            1           0             0  ...           1               0   \n58139            0           0             0  ...           0               0   \n\n       top_mat_자카드  top_mat_저지  top_mat_코듀로이  top_mat_트위드  top_mat_패딩  \\\n0                0           0             0            0           0   \n1                0           0             0            0           0   \n2                0           0             0            0           0   \n3                0           0             0            0           0   \n4                0           0             0            0           0   \n...            ...         ...           ...          ...         ...   \n58135            0           1             0            0           0   \n58136            0           1             0            0           0   \n58137            0           0             0            0           0   \n58138            0           0             0            0           0   \n58139            0           0             0            0           0   \n\n       top_mat_퍼  top_mat_플리스  top_mat_헤어 니트  \n0              0            0              0  \n1              0            0              0  \n2              0            0              0  \n3              0            0              0  \n4              0            0              0  \n...          ...          ...            ...  \n58135          0            0              0  \n58136          0            0              0  \n58137          0            0              0  \n58138          0            0              0  \n58139          0            0              0  \n\n[58140 rows x 42 columns]",
      "text/html": "<div>\n<style scoped>\n    .dataframe tbody tr th:only-of-type {\n        vertical-align: middle;\n    }\n\n    .dataframe tbody tr th {\n        vertical-align: top;\n    }\n\n    .dataframe thead th {\n        text-align: right;\n    }\n</style>\n<table border=\"1\" class=\"dataframe\">\n  <thead>\n    <tr style=\"text-align: right;\">\n      <th></th>\n      <th>image_id</th>\n      <th>image_name</th>\n      <th>image_height</th>\n      <th>image_width</th>\n      <th>top_cate_니트웨어</th>\n      <th>top_cate_브라탑</th>\n      <th>top_cate_블라우스</th>\n      <th>top_cate_셔츠</th>\n      <th>top_cate_탑</th>\n      <th>top_cate_티셔츠</th>\n      <th>...</th>\n      <th>top_mat_우븐</th>\n      <th>top_mat_울/캐시미어</th>\n      <th>top_mat_자카드</th>\n      <th>top_mat_저지</th>\n      <th>top_mat_코듀로이</th>\n      <th>top_mat_트위드</th>\n      <th>top_mat_패딩</th>\n      <th>top_mat_퍼</th>\n      <th>top_mat_플리스</th>\n      <th>top_mat_헤어 니트</th>\n    </tr>\n  </thead>\n  <tbody>\n    <tr>\n      <th>0</th>\n      <td>703911</td>\n      <td>(116)IMG_1.jpg</td>\n      <td>1066</td>\n      <td>800</td>\n      <td>0</td>\n      <td>0</td>\n      <td>1</td>\n      <td>0</td>\n      <td>0</td>\n      <td>0</td>\n      <td>...</td>\n      <td>1</td>\n      <td>0</td>\n      <td>0</td>\n      <td>0</td>\n      <td>0</td>\n      <td>0</td>\n      <td>0</td>\n      <td>0</td>\n      <td>0</td>\n      <td>0</td>\n    </tr>\n    <tr>\n      <th>1</th>\n      <td>703912</td>\n      <td>(117)IMG_1.jpg</td>\n      <td>1066</td>\n      <td>800</td>\n      <td>0</td>\n      <td>0</td>\n      <td>1</td>\n      <td>0</td>\n      <td>0</td>\n      <td>0</td>\n      <td>...</td>\n      <td>1</td>\n      <td>0</td>\n      <td>0</td>\n      <td>0</td>\n      <td>0</td>\n      <td>0</td>\n      <td>0</td>\n      <td>0</td>\n      <td>0</td>\n      <td>0</td>\n    </tr>\n    <tr>\n      <th>2</th>\n      <td>703914</td>\n      <td>(119)IMG_1.jpg</td>\n      <td>600</td>\n      <td>800</td>\n      <td>0</td>\n      <td>0</td>\n      <td>1</td>\n      <td>0</td>\n      <td>0</td>\n      <td>0</td>\n      <td>...</td>\n      <td>1</td>\n      <td>0</td>\n      <td>0</td>\n      <td>0</td>\n      <td>0</td>\n      <td>0</td>\n      <td>0</td>\n      <td>0</td>\n      <td>0</td>\n      <td>0</td>\n    </tr>\n    <tr>\n      <th>3</th>\n      <td>703917</td>\n      <td>(122)IMG_1.jpg</td>\n      <td>1066</td>\n      <td>800</td>\n      <td>0</td>\n      <td>0</td>\n      <td>1</td>\n      <td>0</td>\n      <td>0</td>\n      <td>0</td>\n      <td>...</td>\n      <td>1</td>\n      <td>0</td>\n      <td>0</td>\n      <td>0</td>\n      <td>0</td>\n      <td>0</td>\n      <td>0</td>\n      <td>0</td>\n      <td>0</td>\n      <td>0</td>\n    </tr>\n    <tr>\n      <th>4</th>\n      <td>703918</td>\n      <td>(123)IMG_1.jpg</td>\n      <td>1066</td>\n      <td>800</td>\n      <td>0</td>\n      <td>0</td>\n      <td>1</td>\n      <td>0</td>\n      <td>0</td>\n      <td>0</td>\n      <td>...</td>\n      <td>1</td>\n      <td>0</td>\n      <td>0</td>\n      <td>0</td>\n      <td>0</td>\n      <td>0</td>\n      <td>0</td>\n      <td>0</td>\n      <td>0</td>\n      <td>0</td>\n    </tr>\n    <tr>\n      <th>...</th>\n      <td>...</td>\n      <td>...</td>\n      <td>...</td>\n      <td>...</td>\n      <td>...</td>\n      <td>...</td>\n      <td>...</td>\n      <td>...</td>\n      <td>...</td>\n      <td>...</td>\n      <td>...</td>\n      <td>...</td>\n      <td>...</td>\n      <td>...</td>\n      <td>...</td>\n      <td>...</td>\n      <td>...</td>\n      <td>...</td>\n      <td>...</td>\n      <td>...</td>\n      <td>...</td>\n    </tr>\n    <tr>\n      <th>58135</th>\n      <td>1267719</td>\n      <td>20201117_001727_504-158884201120506600_1817439...</td>\n      <td>1066</td>\n      <td>800</td>\n      <td>0</td>\n      <td>0</td>\n      <td>0</td>\n      <td>0</td>\n      <td>0</td>\n      <td>1</td>\n      <td>...</td>\n      <td>0</td>\n      <td>0</td>\n      <td>0</td>\n      <td>1</td>\n      <td>0</td>\n      <td>0</td>\n      <td>0</td>\n      <td>0</td>\n      <td>0</td>\n      <td>0</td>\n    </tr>\n    <tr>\n      <th>58136</th>\n      <td>1267826</td>\n      <td>20201117_001824_500번 나나린넨통팬츠-15888456106645400...</td>\n      <td>1066</td>\n      <td>800</td>\n      <td>0</td>\n      <td>0</td>\n      <td>0</td>\n      <td>0</td>\n      <td>0</td>\n      <td>1</td>\n      <td>...</td>\n      <td>0</td>\n      <td>0</td>\n      <td>0</td>\n      <td>1</td>\n      <td>0</td>\n      <td>0</td>\n      <td>0</td>\n      <td>0</td>\n      <td>0</td>\n      <td>0</td>\n    </tr>\n    <tr>\n      <th>58137</th>\n      <td>1249213</td>\n      <td>20201117_231753_(SALE)디나-159161936189666000_42...</td>\n      <td>1066</td>\n      <td>800</td>\n      <td>0</td>\n      <td>0</td>\n      <td>0</td>\n      <td>0</td>\n      <td>0</td>\n      <td>1</td>\n      <td>...</td>\n      <td>1</td>\n      <td>0</td>\n      <td>0</td>\n      <td>0</td>\n      <td>0</td>\n      <td>0</td>\n      <td>0</td>\n      <td>0</td>\n      <td>0</td>\n      <td>0</td>\n    </tr>\n    <tr>\n      <th>58138</th>\n      <td>1270277</td>\n      <td>20201117_234317_랑i방 쎄미 배기팬츠-159903239298905600...</td>\n      <td>1066</td>\n      <td>800</td>\n      <td>0</td>\n      <td>0</td>\n      <td>0</td>\n      <td>1</td>\n      <td>0</td>\n      <td>0</td>\n      <td>...</td>\n      <td>1</td>\n      <td>0</td>\n      <td>0</td>\n      <td>0</td>\n      <td>0</td>\n      <td>0</td>\n      <td>0</td>\n      <td>0</td>\n      <td>0</td>\n      <td>0</td>\n    </tr>\n    <tr>\n      <th>58139</th>\n      <td>1272617</td>\n      <td>20201118_000011_드림-160214917533834100_77384581...</td>\n      <td>1066</td>\n      <td>800</td>\n      <td>1</td>\n      <td>0</td>\n      <td>0</td>\n      <td>0</td>\n      <td>0</td>\n      <td>0</td>\n      <td>...</td>\n      <td>0</td>\n      <td>0</td>\n      <td>0</td>\n      <td>0</td>\n      <td>0</td>\n      <td>0</td>\n      <td>0</td>\n      <td>0</td>\n      <td>0</td>\n      <td>0</td>\n    </tr>\n  </tbody>\n</table>\n<p>58140 rows × 42 columns</p>\n</div>"
     },
     "execution_count": 47,
     "metadata": {},
     "output_type": "execute_result"
    }
   ],
   "source": [
    "df_top = pd.get_dummies(data = top, columns = ['top_cate', 'top_len', 'top_mat'])\n",
    "df_top"
   ],
   "metadata": {
    "collapsed": false,
    "pycharm": {
     "name": "#%%\n"
    }
   }
  },
  {
   "cell_type": "code",
   "execution_count": 45,
   "outputs": [
    {
     "data": {
      "text/plain": "     top_cate_니트웨어  top_cate_브라탑  top_cate_블라우스  top_cate_셔츠  top_cate_탑  \\\n0                0             0              1            0           0   \n1                0             0              1            0           0   \n2                0             0              1            0           0   \n3                0             0              1            0           0   \n4                0             0              1            0           0   \n..             ...           ...            ...          ...         ...   \n295              1             0              0            0           0   \n296              1             0              0            0           0   \n297              1             0              0            0           0   \n298              1             0              0            0           0   \n299              1             0              0            0           0   \n\n     top_cate_티셔츠  top_cate_후드티  top_len_7부소매  top_len_긴팔  top_len_민소매  ...  \\\n0               0             0             0           1            0  ...   \n1               0             0             0           1            0  ...   \n2               0             0             0           1            0  ...   \n3               0             0             0           1            0  ...   \n4               0             0             0           1            0  ...   \n..            ...           ...           ...         ...          ...  ...   \n295             0             0             0           1            0  ...   \n296             0             0             0           1            0  ...   \n297             0             0             0           1            0  ...   \n298             0             0             0           1            0  ...   \n299             0             0             0           1            0  ...   \n\n     top_mat_우븐  top_mat_울/캐시미어  top_mat_자카드  top_mat_저지  top_mat_코듀로이  \\\n0             1               0            0           0             0   \n1             1               0            0           0             0   \n2             1               0            0           0             0   \n3             1               0            0           0             0   \n4             1               0            0           0             0   \n..          ...             ...          ...         ...           ...   \n295           0               0            0           0             0   \n296           0               0            0           0             0   \n297           0               0            0           0             0   \n298           0               0            0           0             0   \n299           0               0            0           0             0   \n\n     top_mat_트위드  top_mat_패딩  top_mat_퍼  top_mat_플리스  top_mat_헤어 니트  \n0              0           0          0            0              0  \n1              0           0          0            0              0  \n2              0           0          0            0              0  \n3              0           0          0            0              0  \n4              0           0          0            0              0  \n..           ...         ...        ...          ...            ...  \n295            0           0          0            0              0  \n296            0           0          0            0              0  \n297            0           0          0            0              0  \n298            0           0          0            0              0  \n299            0           0          0            0              0  \n\n[300 rows x 38 columns]",
      "text/html": "<div>\n<style scoped>\n    .dataframe tbody tr th:only-of-type {\n        vertical-align: middle;\n    }\n\n    .dataframe tbody tr th {\n        vertical-align: top;\n    }\n\n    .dataframe thead th {\n        text-align: right;\n    }\n</style>\n<table border=\"1\" class=\"dataframe\">\n  <thead>\n    <tr style=\"text-align: right;\">\n      <th></th>\n      <th>top_cate_니트웨어</th>\n      <th>top_cate_브라탑</th>\n      <th>top_cate_블라우스</th>\n      <th>top_cate_셔츠</th>\n      <th>top_cate_탑</th>\n      <th>top_cate_티셔츠</th>\n      <th>top_cate_후드티</th>\n      <th>top_len_7부소매</th>\n      <th>top_len_긴팔</th>\n      <th>top_len_민소매</th>\n      <th>...</th>\n      <th>top_mat_우븐</th>\n      <th>top_mat_울/캐시미어</th>\n      <th>top_mat_자카드</th>\n      <th>top_mat_저지</th>\n      <th>top_mat_코듀로이</th>\n      <th>top_mat_트위드</th>\n      <th>top_mat_패딩</th>\n      <th>top_mat_퍼</th>\n      <th>top_mat_플리스</th>\n      <th>top_mat_헤어 니트</th>\n    </tr>\n  </thead>\n  <tbody>\n    <tr>\n      <th>0</th>\n      <td>0</td>\n      <td>0</td>\n      <td>1</td>\n      <td>0</td>\n      <td>0</td>\n      <td>0</td>\n      <td>0</td>\n      <td>0</td>\n      <td>1</td>\n      <td>0</td>\n      <td>...</td>\n      <td>1</td>\n      <td>0</td>\n      <td>0</td>\n      <td>0</td>\n      <td>0</td>\n      <td>0</td>\n      <td>0</td>\n      <td>0</td>\n      <td>0</td>\n      <td>0</td>\n    </tr>\n    <tr>\n      <th>1</th>\n      <td>0</td>\n      <td>0</td>\n      <td>1</td>\n      <td>0</td>\n      <td>0</td>\n      <td>0</td>\n      <td>0</td>\n      <td>0</td>\n      <td>1</td>\n      <td>0</td>\n      <td>...</td>\n      <td>1</td>\n      <td>0</td>\n      <td>0</td>\n      <td>0</td>\n      <td>0</td>\n      <td>0</td>\n      <td>0</td>\n      <td>0</td>\n      <td>0</td>\n      <td>0</td>\n    </tr>\n    <tr>\n      <th>2</th>\n      <td>0</td>\n      <td>0</td>\n      <td>1</td>\n      <td>0</td>\n      <td>0</td>\n      <td>0</td>\n      <td>0</td>\n      <td>0</td>\n      <td>1</td>\n      <td>0</td>\n      <td>...</td>\n      <td>1</td>\n      <td>0</td>\n      <td>0</td>\n      <td>0</td>\n      <td>0</td>\n      <td>0</td>\n      <td>0</td>\n      <td>0</td>\n      <td>0</td>\n      <td>0</td>\n    </tr>\n    <tr>\n      <th>3</th>\n      <td>0</td>\n      <td>0</td>\n      <td>1</td>\n      <td>0</td>\n      <td>0</td>\n      <td>0</td>\n      <td>0</td>\n      <td>0</td>\n      <td>1</td>\n      <td>0</td>\n      <td>...</td>\n      <td>1</td>\n      <td>0</td>\n      <td>0</td>\n      <td>0</td>\n      <td>0</td>\n      <td>0</td>\n      <td>0</td>\n      <td>0</td>\n      <td>0</td>\n      <td>0</td>\n    </tr>\n    <tr>\n      <th>4</th>\n      <td>0</td>\n      <td>0</td>\n      <td>1</td>\n      <td>0</td>\n      <td>0</td>\n      <td>0</td>\n      <td>0</td>\n      <td>0</td>\n      <td>1</td>\n      <td>0</td>\n      <td>...</td>\n      <td>1</td>\n      <td>0</td>\n      <td>0</td>\n      <td>0</td>\n      <td>0</td>\n      <td>0</td>\n      <td>0</td>\n      <td>0</td>\n      <td>0</td>\n      <td>0</td>\n    </tr>\n    <tr>\n      <th>...</th>\n      <td>...</td>\n      <td>...</td>\n      <td>...</td>\n      <td>...</td>\n      <td>...</td>\n      <td>...</td>\n      <td>...</td>\n      <td>...</td>\n      <td>...</td>\n      <td>...</td>\n      <td>...</td>\n      <td>...</td>\n      <td>...</td>\n      <td>...</td>\n      <td>...</td>\n      <td>...</td>\n      <td>...</td>\n      <td>...</td>\n      <td>...</td>\n      <td>...</td>\n      <td>...</td>\n    </tr>\n    <tr>\n      <th>295</th>\n      <td>1</td>\n      <td>0</td>\n      <td>0</td>\n      <td>0</td>\n      <td>0</td>\n      <td>0</td>\n      <td>0</td>\n      <td>0</td>\n      <td>1</td>\n      <td>0</td>\n      <td>...</td>\n      <td>0</td>\n      <td>0</td>\n      <td>0</td>\n      <td>0</td>\n      <td>0</td>\n      <td>0</td>\n      <td>0</td>\n      <td>0</td>\n      <td>0</td>\n      <td>0</td>\n    </tr>\n    <tr>\n      <th>296</th>\n      <td>1</td>\n      <td>0</td>\n      <td>0</td>\n      <td>0</td>\n      <td>0</td>\n      <td>0</td>\n      <td>0</td>\n      <td>0</td>\n      <td>1</td>\n      <td>0</td>\n      <td>...</td>\n      <td>0</td>\n      <td>0</td>\n      <td>0</td>\n      <td>0</td>\n      <td>0</td>\n      <td>0</td>\n      <td>0</td>\n      <td>0</td>\n      <td>0</td>\n      <td>0</td>\n    </tr>\n    <tr>\n      <th>297</th>\n      <td>1</td>\n      <td>0</td>\n      <td>0</td>\n      <td>0</td>\n      <td>0</td>\n      <td>0</td>\n      <td>0</td>\n      <td>0</td>\n      <td>1</td>\n      <td>0</td>\n      <td>...</td>\n      <td>0</td>\n      <td>0</td>\n      <td>0</td>\n      <td>0</td>\n      <td>0</td>\n      <td>0</td>\n      <td>0</td>\n      <td>0</td>\n      <td>0</td>\n      <td>0</td>\n    </tr>\n    <tr>\n      <th>298</th>\n      <td>1</td>\n      <td>0</td>\n      <td>0</td>\n      <td>0</td>\n      <td>0</td>\n      <td>0</td>\n      <td>0</td>\n      <td>0</td>\n      <td>1</td>\n      <td>0</td>\n      <td>...</td>\n      <td>0</td>\n      <td>0</td>\n      <td>0</td>\n      <td>0</td>\n      <td>0</td>\n      <td>0</td>\n      <td>0</td>\n      <td>0</td>\n      <td>0</td>\n      <td>0</td>\n    </tr>\n    <tr>\n      <th>299</th>\n      <td>1</td>\n      <td>0</td>\n      <td>0</td>\n      <td>0</td>\n      <td>0</td>\n      <td>0</td>\n      <td>0</td>\n      <td>0</td>\n      <td>1</td>\n      <td>0</td>\n      <td>...</td>\n      <td>0</td>\n      <td>0</td>\n      <td>0</td>\n      <td>0</td>\n      <td>0</td>\n      <td>0</td>\n      <td>0</td>\n      <td>0</td>\n      <td>0</td>\n      <td>0</td>\n    </tr>\n  </tbody>\n</table>\n<p>300 rows × 38 columns</p>\n</div>"
     },
     "execution_count": 45,
     "metadata": {},
     "output_type": "execute_result"
    }
   ],
   "source": [
    "df_top"
   ],
   "metadata": {
    "collapsed": false,
    "pycharm": {
     "name": "#%%\n"
    }
   }
  },
  {
   "cell_type": "code",
   "execution_count": null,
   "outputs": [],
   "source": [
    "from keras.preprocessing import image\n",
    "from tqdm import tqdm"
   ],
   "metadata": {
    "collapsed": false,
    "pycharm": {
     "name": "#%%\n"
    }
   }
  },
  {
   "cell_type": "code",
   "execution_count": null,
   "outputs": [],
   "source": [
    "\n",
    "train_image = []\n",
    "for i in tqdm(range(0, 300)):\n",
    "    img = image.load_img('C:/img/'+df_top['image_name'][i],target_size=(400,400,3))\n",
    "    img = image.img_to_array(img)\n",
    "    img = img/255\n",
    "    train_image.append(img)"
   ],
   "metadata": {
    "collapsed": false,
    "pycharm": {
     "name": "#%%\n"
    }
   }
  },
  {
   "cell_type": "code",
   "execution_count": null,
   "outputs": [],
   "source": [
    "print(len(train_image))"
   ],
   "metadata": {
    "collapsed": false,
    "pycharm": {
     "name": "#%%\n"
    }
   }
  },
  {
   "cell_type": "code",
   "execution_count": null,
   "outputs": [],
   "source": [
    "X = np.array(train_image[:300])\n",
    "X.shape\n"
   ],
   "metadata": {
    "collapsed": false,
    "pycharm": {
     "name": "#%%\n"
    }
   }
  },
  {
   "cell_type": "code",
   "execution_count": null,
   "outputs": [],
   "source": [
    "plt.imshow(X[1])"
   ],
   "metadata": {
    "collapsed": false,
    "pycharm": {
     "name": "#%%\n"
    }
   }
  },
  {
   "cell_type": "code",
   "execution_count": 9,
   "outputs": [
    {
     "data": {
      "text/plain": "300"
     },
     "execution_count": 9,
     "metadata": {},
     "output_type": "execute_result"
    }
   ],
   "source": [
    "y = np.array(df_top.drop(['image_id', 'image_name', 'image_height', 'image_width'], axis=1)[:300])\n",
    "len(y)"
   ],
   "metadata": {
    "collapsed": false,
    "pycharm": {
     "name": "#%%\n"
    }
   }
  },
  {
   "cell_type": "code",
   "execution_count": 18,
   "outputs": [
    {
     "data": {
      "text/plain": "38"
     },
     "execution_count": 17,
     "metadata": {},
     "output_type": "execute_result"
    },
    {
     "data": {
      "text/plain": "38"
     },
     "execution_count": 18,
     "metadata": {},
     "output_type": "execute_result"
    }
   ],
   "source": [
    "len(df_top.columns.)"
   ],
   "metadata": {
    "collapsed": false,
    "pycharm": {
     "name": "#%%\n"
    }
   }
  },
  {
   "cell_type": "code",
   "execution_count": null,
   "outputs": [],
   "source": [
    "X_train, X_test, y_train, y_test = train_test_split(X, y, random_state=42, test_size=0.1)"
   ],
   "metadata": {
    "collapsed": false,
    "pycharm": {
     "name": "#%%\n"
    }
   }
  },
  {
   "cell_type": "code",
   "execution_count": null,
   "outputs": [],
   "source": [
    "print(X_train.shape)\n",
    "print(y_train.shape)"
   ],
   "metadata": {
    "collapsed": false,
    "pycharm": {
     "name": "#%%\n"
    }
   }
  },
  {
   "cell_type": "code",
   "execution_count": null,
   "outputs": [],
   "source": [
    "model = Sequential()\n",
    "model.add(Conv2D(filters=16, kernel_size=(5, 5), activation=\"relu\", input_shape=(400,400,3)))\n",
    "model.add(MaxPooling2D(pool_size=(2, 2)))\n",
    "model.add(Dropout(0.25))\n",
    "model.add(Conv2D(filters=32, kernel_size=(5, 5), activation='relu'))\n",
    "model.add(MaxPooling2D(pool_size=(2, 2)))\n",
    "model.add(Dropout(0.25))\n",
    "model.add(Conv2D(filters=64, kernel_size=(5, 5), activation=\"relu\"))\n",
    "model.add(MaxPooling2D(pool_size=(2, 2)))\n",
    "model.add(Dropout(0.25))\n",
    "model.add(Conv2D(filters=64, kernel_size=(5, 5), activation='relu'))\n",
    "model.add(MaxPooling2D(pool_size=(2, 2)))\n",
    "model.add(Dropout(0.25))\n",
    "model.add(Flatten())\n",
    "model.add(Dense(128, activation='relu'))\n",
    "model.add(Dropout(0.5))\n",
    "model.add(Dense(64, activation='relu'))\n",
    "model.add(Dropout(0.5))\n",
    "model.add(Dense(38, activation='sigmoid'))"
   ],
   "metadata": {
    "collapsed": false,
    "pycharm": {
     "name": "#%%\n"
    }
   }
  },
  {
   "cell_type": "code",
   "execution_count": null,
   "outputs": [],
   "source": [
    "model.summary()"
   ],
   "metadata": {
    "collapsed": false,
    "pycharm": {
     "name": "#%%\n"
    }
   }
  },
  {
   "cell_type": "code",
   "execution_count": null,
   "outputs": [],
   "source": [
    "model.compile(optimizer='adam', loss='binary_crossentropy', metrics=['accuracy'])"
   ],
   "metadata": {
    "collapsed": false,
    "pycharm": {
     "name": "#%%\n"
    }
   }
  },
  {
   "cell_type": "code",
   "execution_count": null,
   "outputs": [],
   "source": [
    "model.fit(X_train, y_train, epochs=10, validation_data=(X_test, y_test), batch_size=64)"
   ],
   "metadata": {
    "collapsed": false,
    "pycharm": {
     "name": "#%%\n"
    }
   }
  },
  {
   "cell_type": "code",
   "execution_count": null,
   "outputs": [],
   "source": [
    "img = image.load_img('C:/img2/(23)IMG_1.jpg',target_size=(400,400,3))\n",
    "img = image.img_to_array(img)\n",
    "img = img/255\n",
    "prob = model.predict(img.reshape(1,400,400,3))\n",
    "top_3 = np.argsort(prob[0])[:-4:-1]\n",
    "top_3.tolist()"
   ],
   "metadata": {
    "collapsed": false,
    "pycharm": {
     "name": "#%%\n"
    }
   }
  },
  {
   "cell_type": "code",
   "execution_count": null,
   "outputs": [],
   "source": [
    "loss_and_metrics = model.evaluate(X_test, y_test, batch_size=64)\n",
    "print('')\n",
    "print('loss_and_metrics : ' + str(loss_and_metrics))"
   ],
   "metadata": {
    "collapsed": false,
    "pycharm": {
     "name": "#%%\n"
    }
   }
  },
  {
   "cell_type": "code",
   "execution_count": null,
   "outputs": [],
   "source": [
    "from keras.models import load_model\n",
    "\n",
    "model.save('model_top.h5')\n",
    "print('saved')"
   ],
   "metadata": {
    "collapsed": false,
    "pycharm": {
     "name": "#%%\n"
    }
   }
  },
  {
   "cell_type": "code",
   "execution_count": 111,
   "outputs": [],
   "source": [
    "def count_correct_result(list, result):\n",
    "    answer = 0\n",
    "    list_answer = []\n",
    "    style_list = list[0:7].tolist()\n",
    "    len_list = list[7:13].tolist()\n",
    "    mat_list = list[13: 38].tolist()\n",
    "    list_answer.append(style_list.index(max(style_list)))\n",
    "    list_answer.append(len_list.index(max(len_list)) + 7)\n",
    "    list_answer.append(mat_list.index(max(mat_list)) + 13)\n",
    "    for i in result:\n",
    "        if i in list_answer:\n",
    "            answer += 1\n",
    "    return answer"
   ],
   "metadata": {
    "collapsed": false,
    "pycharm": {
     "name": "#%%\n"
    }
   }
  },
  {
   "cell_type": "code",
   "execution_count": 112,
   "outputs": [],
   "source": [
    "def real_answer(image_name):\n",
    "    count = -4\n",
    "    answer = []\n",
    "    temp_df = df_top[df_top['image_name'] == image_name]\n",
    "    for i in temp_df.columns:\n",
    "        if count >= 0 and int(temp_df[i].values[0]) == 1:\n",
    "            answer.append(count)\n",
    "        count += 1\n",
    "    return answer"
   ],
   "metadata": {
    "collapsed": false,
    "pycharm": {
     "name": "#%%\n"
    }
   }
  },
  {
   "cell_type": "code",
   "execution_count": 114,
   "outputs": [],
   "source": [
    "from random import randint\n",
    "import os.path\n",
    "from tqdm import tqdm"
   ],
   "metadata": {
    "collapsed": false,
    "pycharm": {
     "name": "#%%\n"
    }
   }
  },
  {
   "cell_type": "code",
   "execution_count": 32,
   "outputs": [
    {
     "data": {
      "text/plain": "[[0.250557541847229,\n  0.024436652660369873,\n  0.45895853638648987,\n  0.24229949712753296,\n  0.03473830223083496,\n  0.0922454297542572,\n  0.048743993043899536,\n  0.08543038368225098,\n  0.7074280977249146,\n  0.09583154320716858,\n  0.1366976499557495,\n  0.02122974395751953,\n  0.03222218155860901,\n  0.020163297653198242,\n  0.013485223054885864,\n  0.218113511800766,\n  0.0355762243270874,\n  0.014504104852676392,\n  0.0459115207195282,\n  0.03166157007217407,\n  0.014717906713485718,\n  0.01902294158935547,\n  0.018652647733688354,\n  0.014844566583633423,\n  0.031763315200805664,\n  0.00996580719947815,\n  0.11605212092399597,\n  0.062165290117263794,\n  0.5305594801902771,\n  0.1158197820186615,\n  0.019915878772735596,\n  0.03750103712081909,\n  0.012842506170272827,\n  0.01938202977180481,\n  0.011497467756271362,\n  0.012213706970214844,\n  0.01201888918876648,\n  0.027957767248153687]]"
     },
     "execution_count": 32,
     "metadata": {},
     "output_type": "execute_result"
    }
   ],
   "source": [
    "reconstructed_model = keras.models.load_model(\"model_top.h5\")"
   ],
   "metadata": {
    "collapsed": false,
    "pycharm": {
     "name": "#%%\n"
    }
   }
  },
  {
   "cell_type": "code",
   "execution_count": 101,
   "outputs": [
    {
     "name": "stdout",
     "output_type": "stream",
     "text": [
      "[0.25923973 0.03165245 0.45751798 0.25705433 0.04407531 0.10575047\n",
      " 0.0585244  0.09906816 0.6932416  0.11145675 0.15690342 0.02825385\n",
      " 0.04093507 0.02653065 0.01813924 0.23293379 0.04449815 0.01908675\n",
      " 0.05604902 0.03936693 0.01986519 0.02469018 0.02483204 0.01940238\n",
      " 0.04027101 0.01363045 0.13491246 0.07299143 0.52433795 0.13161477\n",
      " 0.02593097 0.04628941 0.01734591 0.02559435 0.01527286 0.01702857\n",
      " 0.01681992 0.03580141]\n",
      "38\n",
      "[0.25923973321914673, 0.03165245056152344, 0.45751798152923584, 0.25705432891845703, 0.04407531023025513, 0.10575047135353088, 0.05852439999580383]\n",
      "[0.09906816482543945, 0.6932415962219238, 0.11145675182342529, 0.15690341591835022, 0.02825385332107544, 0.04093506932258606]\n",
      "[0.02653065323829651, 0.018139243125915527, 0.23293378949165344, 0.04449814558029175, 0.019086748361587524, 0.05604901909828186, 0.03936693072319031, 0.019865185022354126, 0.024690181016921997, 0.024832040071487427, 0.019402384757995605, 0.04027101397514343, 0.013630449771881104, 0.13491246104240417, 0.07299143075942993, 0.5243379473686218, 0.1316147744655609, 0.025930970907211304, 0.046289414167404175, 0.017345905303955078, 0.025594353675842285, 0.015272855758666992, 0.0170285701751709, 0.016819924116134644, 0.03580141067504883]\n",
      "[2, 8, 28]\n",
      "[2, 8, 28]\n"
     ]
    },
    {
     "data": {
      "text/plain": "3"
     },
     "execution_count": 101,
     "metadata": {},
     "output_type": "execute_result"
    }
   ],
   "source": [
    "img = image.load_img('C:/img/(116)IMG_1.jpg',target_size=(400,400,3))\n",
    "img = image.img_to_array(img)\n",
    "img = img/255\n",
    "print(reconstructed_model.predict(img.reshape(1,400,400,3))[0])\n",
    "count_correct_result(reconstructed_model.predict(img.reshape(1,400,400,3))[0], real_answer(\"(116)IMG_1.jpg\"))"
   ],
   "metadata": {
    "collapsed": false,
    "pycharm": {
     "name": "#%%\n"
    }
   }
  },
  {
   "cell_type": "code",
   "execution_count": 116,
   "outputs": [
    {
     "name": "stderr",
     "output_type": "stream",
     "text": [
      "100%|██████████| 300/300 [00:34<00:00,  8.78it/s]"
     ]
    },
    {
     "name": "stdout",
     "output_type": "stream",
     "text": [
      "Accuracy = 0.39241917502787066\n"
     ]
    },
    {
     "name": "stderr",
     "output_type": "stream",
     "text": [
      "\n"
     ]
    }
   ],
   "source": [
    "answer = 0\n",
    "sum = 0\n",
    "for i in tqdm(range(0, 300)):\n",
    "    try:\n",
    "        name = df_top['image_name'][randint(1, 58140)]\n",
    "        if os.path.isfile('C:/img/' + name):\n",
    "            img = image.load_img('C:/img/' + name,target_size=(400,400,3))\n",
    "        if os.path.isfile('C:/img2/' + name):\n",
    "            img = image.load_img('C:/img2/' + name,target_size=(400,400,3))\n",
    "        img = image.img_to_array(img)\n",
    "        img = img/255\n",
    "        answer += count_correct_result(reconstructed_model.predict(img.reshape(1,400,400,3))[0], real_answer(name))\n",
    "        sum += 3\n",
    "    except:\n",
    "        continue\n",
    "print(\"Accuracy = \" + str(answer / sum))"
   ],
   "metadata": {
    "collapsed": false,
    "pycharm": {
     "name": "#%%\n"
    }
   }
  }
 ],
 "metadata": {
  "kernelspec": {
   "display_name": "Python 3",
   "language": "python",
   "name": "python3"
  },
  "language_info": {
   "codemirror_mode": {
    "name": "ipython",
    "version": 2
   },
   "file_extension": ".py",
   "mimetype": "text/x-python",
   "name": "python",
   "nbconvert_exporter": "python",
   "pygments_lexer": "ipython2",
   "version": "2.7.6"
  }
 },
 "nbformat": 4,
 "nbformat_minor": 0
}