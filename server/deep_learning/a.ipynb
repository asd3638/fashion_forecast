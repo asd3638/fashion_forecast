{
 "cells": [
  {
   "cell_type": "code",
   "execution_count": 2,
   "metadata": {
    "collapsed": true
   },
   "outputs": [],
   "source": [
    "import pandas as pd\n",
    "import cv2"
   ]
  },
  {
   "cell_type": "code",
   "execution_count": 3,
   "outputs": [
    {
     "data": {
      "text/plain": "                    name  cate len\n0         (116)IMG_1.jpg  블라우스  긴팔\n1         (117)IMG_1.jpg  블라우스  긴팔\n2         (119)IMG_1.jpg  블라우스  긴팔\n3         (122)IMG_1.jpg  블라우스  긴팔\n4         (123)IMG_1.jpg  블라우스  긴팔\n...                  ...   ...  ..\n4995  BodyFun_013_02.jpg  블라우스  긴팔\n4996  BodyFun_013_03.jpg  블라우스  긴팔\n4997  BodyFun_013_05.jpg  블라우스  긴팔\n4998  BodyFun_013_10.jpg  블라우스  긴팔\n4999  BodyFun_013_11.jpg  블라우스  긴팔\n\n[5000 rows x 3 columns]",
      "text/html": "<div>\n<style scoped>\n    .dataframe tbody tr th:only-of-type {\n        vertical-align: middle;\n    }\n\n    .dataframe tbody tr th {\n        vertical-align: top;\n    }\n\n    .dataframe thead th {\n        text-align: right;\n    }\n</style>\n<table border=\"1\" class=\"dataframe\">\n  <thead>\n    <tr style=\"text-align: right;\">\n      <th></th>\n      <th>name</th>\n      <th>cate</th>\n      <th>len</th>\n    </tr>\n  </thead>\n  <tbody>\n    <tr>\n      <th>0</th>\n      <td>(116)IMG_1.jpg</td>\n      <td>블라우스</td>\n      <td>긴팔</td>\n    </tr>\n    <tr>\n      <th>1</th>\n      <td>(117)IMG_1.jpg</td>\n      <td>블라우스</td>\n      <td>긴팔</td>\n    </tr>\n    <tr>\n      <th>2</th>\n      <td>(119)IMG_1.jpg</td>\n      <td>블라우스</td>\n      <td>긴팔</td>\n    </tr>\n    <tr>\n      <th>3</th>\n      <td>(122)IMG_1.jpg</td>\n      <td>블라우스</td>\n      <td>긴팔</td>\n    </tr>\n    <tr>\n      <th>4</th>\n      <td>(123)IMG_1.jpg</td>\n      <td>블라우스</td>\n      <td>긴팔</td>\n    </tr>\n    <tr>\n      <th>...</th>\n      <td>...</td>\n      <td>...</td>\n      <td>...</td>\n    </tr>\n    <tr>\n      <th>4995</th>\n      <td>BodyFun_013_02.jpg</td>\n      <td>블라우스</td>\n      <td>긴팔</td>\n    </tr>\n    <tr>\n      <th>4996</th>\n      <td>BodyFun_013_03.jpg</td>\n      <td>블라우스</td>\n      <td>긴팔</td>\n    </tr>\n    <tr>\n      <th>4997</th>\n      <td>BodyFun_013_05.jpg</td>\n      <td>블라우스</td>\n      <td>긴팔</td>\n    </tr>\n    <tr>\n      <th>4998</th>\n      <td>BodyFun_013_10.jpg</td>\n      <td>블라우스</td>\n      <td>긴팔</td>\n    </tr>\n    <tr>\n      <th>4999</th>\n      <td>BodyFun_013_11.jpg</td>\n      <td>블라우스</td>\n      <td>긴팔</td>\n    </tr>\n  </tbody>\n</table>\n<p>5000 rows × 3 columns</p>\n</div>"
     },
     "execution_count": 3,
     "metadata": {},
     "output_type": "execute_result"
    }
   ],
   "source": [
    "top = pd.read_csv('C:\\k-fashion-dataset/Processed/preprocessed_top.csv', encoding='utf-8')\n",
    "top"
   ],
   "metadata": {
    "collapsed": false,
    "pycharm": {
     "name": "#%%\n"
    }
   }
  },
  {
   "cell_type": "code",
   "execution_count": 7,
   "outputs": [],
   "source": [
    "for index, row in top.iterrows():\n",
    "    try:\n",
    "        name = 'C:\\img/{}'.format(row[\"name\"])\n",
    "        image = cv2.imread(name)\n",
    "        if image is None:\n",
    "            image = cv2.imread('C:\\img2/{}'.format(row[\"name\"]))\n",
    "        cv2.imwrite('C:/top/{}'.format(row[\"name\"]), image)\n",
    "    except:\n",
    "        continue"
   ],
   "metadata": {
    "collapsed": false,
    "pycharm": {
     "name": "#%%\n"
    }
   }
  },
  {
   "cell_type": "code",
   "execution_count": 29,
   "outputs": [
    {
     "data": {
      "text/plain": "                                             name cate len\n0       1-(9)-008-275-2,526-14,877-FLY_349_01.jpg  스커트  미디\n1       1-(9)-008-275-2,526-14,877-FLY_349_02.jpg  스커트  미디\n2       1-(9)-008-275-2,526-14,877-FLY_349_04.jpg  스커트  미디\n3     1-(9)-008-275-2,526-14,877-FLY_349_11_3.jpg  스커트  미디\n4     1-(9)-008-275-2,526-14,877-FLY_349_11_5.jpg  스커트  미디\n...                                           ...  ...  ..\n4995                      MAYONE_021_00_JJ_코코.jpg   팬츠  미디\n4996                            MAYONE_021_01.jpg   팬츠  미디\n4997                            MAYONE_021_03.jpg   팬츠  미디\n4998                            MAYONE_021_05.jpg   팬츠  미디\n4999                            MAYONE_021_09.jpg   팬츠  미디\n\n[5000 rows x 3 columns]",
      "text/html": "<div>\n<style scoped>\n    .dataframe tbody tr th:only-of-type {\n        vertical-align: middle;\n    }\n\n    .dataframe tbody tr th {\n        vertical-align: top;\n    }\n\n    .dataframe thead th {\n        text-align: right;\n    }\n</style>\n<table border=\"1\" class=\"dataframe\">\n  <thead>\n    <tr style=\"text-align: right;\">\n      <th></th>\n      <th>name</th>\n      <th>cate</th>\n      <th>len</th>\n    </tr>\n  </thead>\n  <tbody>\n    <tr>\n      <th>0</th>\n      <td>1-(9)-008-275-2,526-14,877-FLY_349_01.jpg</td>\n      <td>스커트</td>\n      <td>미디</td>\n    </tr>\n    <tr>\n      <th>1</th>\n      <td>1-(9)-008-275-2,526-14,877-FLY_349_02.jpg</td>\n      <td>스커트</td>\n      <td>미디</td>\n    </tr>\n    <tr>\n      <th>2</th>\n      <td>1-(9)-008-275-2,526-14,877-FLY_349_04.jpg</td>\n      <td>스커트</td>\n      <td>미디</td>\n    </tr>\n    <tr>\n      <th>3</th>\n      <td>1-(9)-008-275-2,526-14,877-FLY_349_11_3.jpg</td>\n      <td>스커트</td>\n      <td>미디</td>\n    </tr>\n    <tr>\n      <th>4</th>\n      <td>1-(9)-008-275-2,526-14,877-FLY_349_11_5.jpg</td>\n      <td>스커트</td>\n      <td>미디</td>\n    </tr>\n    <tr>\n      <th>...</th>\n      <td>...</td>\n      <td>...</td>\n      <td>...</td>\n    </tr>\n    <tr>\n      <th>4995</th>\n      <td>MAYONE_021_00_JJ_코코.jpg</td>\n      <td>팬츠</td>\n      <td>미디</td>\n    </tr>\n    <tr>\n      <th>4996</th>\n      <td>MAYONE_021_01.jpg</td>\n      <td>팬츠</td>\n      <td>미디</td>\n    </tr>\n    <tr>\n      <th>4997</th>\n      <td>MAYONE_021_03.jpg</td>\n      <td>팬츠</td>\n      <td>미디</td>\n    </tr>\n    <tr>\n      <th>4998</th>\n      <td>MAYONE_021_05.jpg</td>\n      <td>팬츠</td>\n      <td>미디</td>\n    </tr>\n    <tr>\n      <th>4999</th>\n      <td>MAYONE_021_09.jpg</td>\n      <td>팬츠</td>\n      <td>미디</td>\n    </tr>\n  </tbody>\n</table>\n<p>5000 rows × 3 columns</p>\n</div>"
     },
     "execution_count": 29,
     "metadata": {},
     "output_type": "execute_result"
    }
   ],
   "source": [
    "df_bottom = pd.read_csv('C:\\k-fashion-dataset/Processed/preprocessed_bottom.csv')\n",
    "df_bottom"
   ],
   "metadata": {
    "collapsed": false,
    "pycharm": {
     "name": "#%%\n"
    }
   }
  },
  {
   "cell_type": "code",
   "execution_count": 30,
   "outputs": [],
   "source": [
    "removed_index = []\n",
    "for index, row in df_bottom.iterrows():\n",
    "    try:\n",
    "        name = 'C:\\img/{}'.format(row[\"name\"])\n",
    "        image = cv2.imread(name)\n",
    "        if image is None:\n",
    "            image = cv2.imread('C:\\img2/{}'.format(row[\"name\"]))\n",
    "        if image is None:\n",
    "            removed_index.append(index)\n",
    "        cv2.imwrite('C:/bottom/{}'.format(row[\"name\"]), image)\n",
    "    except:\n",
    "        continue"
   ],
   "metadata": {
    "collapsed": false,
    "pycharm": {
     "name": "#%%\n"
    }
   }
  },
  {
   "cell_type": "code",
   "execution_count": 11,
   "outputs": [
    {
     "data": {
      "text/plain": "      image_id                             image_name op_cate op_top_len  \\\n0      1241458  018-285-4,257-35,865-Hanna_409_02.jpg     드레스         반팔   \n1      1241459  018-285-4,257-35,865-Hanna_409_03.jpg     드레스         반팔   \n2      1241460  018-285-4,257-35,865-Hanna_409_05.jpg     드레스         반팔   \n3      1241463  018-285-4,257-35,865-Hanna_409_08.jpg     드레스         반팔   \n4      1241464  018-285-4,257-35,865-Hanna_409_09.jpg     드레스         반팔   \n...        ...                                    ...     ...        ...   \n4995    472471       159419323629298000_562366004.jpg     드레스         반팔   \n4996    472474        159419331985031800_11009347.jpg     드레스         반팔   \n4997    472475      159419332153674500_1202235270.jpg     드레스         반팔   \n4998    472476       159419332373880100_425149166.jpg     드레스         반팔   \n4999    472477      159419332552950600_1368826122.jpg     드레스         반팔   \n\n     op_bottom_len  \n0              니렝스  \n1              니렝스  \n2              니렝스  \n3              니렝스  \n4              니렝스  \n...            ...  \n4995            미디  \n4996            발목  \n4997            발목  \n4998            발목  \n4999            발목  \n\n[5000 rows x 5 columns]",
      "text/html": "<div>\n<style scoped>\n    .dataframe tbody tr th:only-of-type {\n        vertical-align: middle;\n    }\n\n    .dataframe tbody tr th {\n        vertical-align: top;\n    }\n\n    .dataframe thead th {\n        text-align: right;\n    }\n</style>\n<table border=\"1\" class=\"dataframe\">\n  <thead>\n    <tr style=\"text-align: right;\">\n      <th></th>\n      <th>image_id</th>\n      <th>image_name</th>\n      <th>op_cate</th>\n      <th>op_top_len</th>\n      <th>op_bottom_len</th>\n    </tr>\n  </thead>\n  <tbody>\n    <tr>\n      <th>0</th>\n      <td>1241458</td>\n      <td>018-285-4,257-35,865-Hanna_409_02.jpg</td>\n      <td>드레스</td>\n      <td>반팔</td>\n      <td>니렝스</td>\n    </tr>\n    <tr>\n      <th>1</th>\n      <td>1241459</td>\n      <td>018-285-4,257-35,865-Hanna_409_03.jpg</td>\n      <td>드레스</td>\n      <td>반팔</td>\n      <td>니렝스</td>\n    </tr>\n    <tr>\n      <th>2</th>\n      <td>1241460</td>\n      <td>018-285-4,257-35,865-Hanna_409_05.jpg</td>\n      <td>드레스</td>\n      <td>반팔</td>\n      <td>니렝스</td>\n    </tr>\n    <tr>\n      <th>3</th>\n      <td>1241463</td>\n      <td>018-285-4,257-35,865-Hanna_409_08.jpg</td>\n      <td>드레스</td>\n      <td>반팔</td>\n      <td>니렝스</td>\n    </tr>\n    <tr>\n      <th>4</th>\n      <td>1241464</td>\n      <td>018-285-4,257-35,865-Hanna_409_09.jpg</td>\n      <td>드레스</td>\n      <td>반팔</td>\n      <td>니렝스</td>\n    </tr>\n    <tr>\n      <th>...</th>\n      <td>...</td>\n      <td>...</td>\n      <td>...</td>\n      <td>...</td>\n      <td>...</td>\n    </tr>\n    <tr>\n      <th>4995</th>\n      <td>472471</td>\n      <td>159419323629298000_562366004.jpg</td>\n      <td>드레스</td>\n      <td>반팔</td>\n      <td>미디</td>\n    </tr>\n    <tr>\n      <th>4996</th>\n      <td>472474</td>\n      <td>159419331985031800_11009347.jpg</td>\n      <td>드레스</td>\n      <td>반팔</td>\n      <td>발목</td>\n    </tr>\n    <tr>\n      <th>4997</th>\n      <td>472475</td>\n      <td>159419332153674500_1202235270.jpg</td>\n      <td>드레스</td>\n      <td>반팔</td>\n      <td>발목</td>\n    </tr>\n    <tr>\n      <th>4998</th>\n      <td>472476</td>\n      <td>159419332373880100_425149166.jpg</td>\n      <td>드레스</td>\n      <td>반팔</td>\n      <td>발목</td>\n    </tr>\n    <tr>\n      <th>4999</th>\n      <td>472477</td>\n      <td>159419332552950600_1368826122.jpg</td>\n      <td>드레스</td>\n      <td>반팔</td>\n      <td>발목</td>\n    </tr>\n  </tbody>\n</table>\n<p>5000 rows × 5 columns</p>\n</div>"
     },
     "execution_count": 11,
     "metadata": {},
     "output_type": "execute_result"
    }
   ],
   "source": [
    "df_op = pd.read_csv('C:\\k-fashion-dataset/Processed/preprocessed_op.csv').drop([\"image_height\", \"image_width\"], axis=1).loc[0:4999]\n",
    "df_op"
   ],
   "metadata": {
    "collapsed": false,
    "pycharm": {
     "name": "#%%\n"
    }
   }
  },
  {
   "cell_type": "code",
   "source": [
    "df_op.rename(columns={'op_cate':'cate'}, inplace=True)\n",
    "df_op.rename(columns={'op_top_len':'top_len'}, inplace=True)\n",
    "df_op.rename(columns={'op_bottom_len':'bottom_len'}, inplace=True)\n",
    "df_op.rename(columns={'image_name':'name'}, inplace=True)\n",
    "df_op.drop([\"image_id\"], axis=1, inplace=True)\n",
    "df_op"
   ],
   "metadata": {
    "collapsed": false,
    "pycharm": {
     "name": "#%%\n"
    }
   },
   "execution_count": 12,
   "outputs": [
    {
     "data": {
      "text/plain": "                                       name cate top_len bottom_len\n0     018-285-4,257-35,865-Hanna_409_02.jpg  드레스      반팔        니렝스\n1     018-285-4,257-35,865-Hanna_409_03.jpg  드레스      반팔        니렝스\n2     018-285-4,257-35,865-Hanna_409_05.jpg  드레스      반팔        니렝스\n3     018-285-4,257-35,865-Hanna_409_08.jpg  드레스      반팔        니렝스\n4     018-285-4,257-35,865-Hanna_409_09.jpg  드레스      반팔        니렝스\n...                                     ...  ...     ...        ...\n4995       159419323629298000_562366004.jpg  드레스      반팔         미디\n4996        159419331985031800_11009347.jpg  드레스      반팔         발목\n4997      159419332153674500_1202235270.jpg  드레스      반팔         발목\n4998       159419332373880100_425149166.jpg  드레스      반팔         발목\n4999      159419332552950600_1368826122.jpg  드레스      반팔         발목\n\n[5000 rows x 4 columns]",
      "text/html": "<div>\n<style scoped>\n    .dataframe tbody tr th:only-of-type {\n        vertical-align: middle;\n    }\n\n    .dataframe tbody tr th {\n        vertical-align: top;\n    }\n\n    .dataframe thead th {\n        text-align: right;\n    }\n</style>\n<table border=\"1\" class=\"dataframe\">\n  <thead>\n    <tr style=\"text-align: right;\">\n      <th></th>\n      <th>name</th>\n      <th>cate</th>\n      <th>top_len</th>\n      <th>bottom_len</th>\n    </tr>\n  </thead>\n  <tbody>\n    <tr>\n      <th>0</th>\n      <td>018-285-4,257-35,865-Hanna_409_02.jpg</td>\n      <td>드레스</td>\n      <td>반팔</td>\n      <td>니렝스</td>\n    </tr>\n    <tr>\n      <th>1</th>\n      <td>018-285-4,257-35,865-Hanna_409_03.jpg</td>\n      <td>드레스</td>\n      <td>반팔</td>\n      <td>니렝스</td>\n    </tr>\n    <tr>\n      <th>2</th>\n      <td>018-285-4,257-35,865-Hanna_409_05.jpg</td>\n      <td>드레스</td>\n      <td>반팔</td>\n      <td>니렝스</td>\n    </tr>\n    <tr>\n      <th>3</th>\n      <td>018-285-4,257-35,865-Hanna_409_08.jpg</td>\n      <td>드레스</td>\n      <td>반팔</td>\n      <td>니렝스</td>\n    </tr>\n    <tr>\n      <th>4</th>\n      <td>018-285-4,257-35,865-Hanna_409_09.jpg</td>\n      <td>드레스</td>\n      <td>반팔</td>\n      <td>니렝스</td>\n    </tr>\n    <tr>\n      <th>...</th>\n      <td>...</td>\n      <td>...</td>\n      <td>...</td>\n      <td>...</td>\n    </tr>\n    <tr>\n      <th>4995</th>\n      <td>159419323629298000_562366004.jpg</td>\n      <td>드레스</td>\n      <td>반팔</td>\n      <td>미디</td>\n    </tr>\n    <tr>\n      <th>4996</th>\n      <td>159419331985031800_11009347.jpg</td>\n      <td>드레스</td>\n      <td>반팔</td>\n      <td>발목</td>\n    </tr>\n    <tr>\n      <th>4997</th>\n      <td>159419332153674500_1202235270.jpg</td>\n      <td>드레스</td>\n      <td>반팔</td>\n      <td>발목</td>\n    </tr>\n    <tr>\n      <th>4998</th>\n      <td>159419332373880100_425149166.jpg</td>\n      <td>드레스</td>\n      <td>반팔</td>\n      <td>발목</td>\n    </tr>\n    <tr>\n      <th>4999</th>\n      <td>159419332552950600_1368826122.jpg</td>\n      <td>드레스</td>\n      <td>반팔</td>\n      <td>발목</td>\n    </tr>\n  </tbody>\n</table>\n<p>5000 rows × 4 columns</p>\n</div>"
     },
     "execution_count": 12,
     "metadata": {},
     "output_type": "execute_result"
    }
   ]
  },
  {
   "cell_type": "code",
   "execution_count": 13,
   "outputs": [],
   "source": [
    "for index, row in df_op.iterrows():\n",
    "    try:\n",
    "        name = 'C:\\img/{}'.format(row[\"name\"])\n",
    "        image = cv2.imread(name)\n",
    "        if image is None:\n",
    "            image = cv2.imread('C:\\img2/{}'.format(row[\"name\"]))\n",
    "        cv2.imwrite('C:/op/{}'.format(row[\"name\"]), image)\n",
    "    except:\n",
    "        continue"
   ],
   "metadata": {
    "collapsed": false,
    "pycharm": {
     "name": "#%%\n"
    }
   }
  },
  {
   "cell_type": "code",
   "execution_count": 14,
   "outputs": [
    {
     "data": {
      "text/plain": "      image_id                                         image_name outer_cate  \\\n0      1016704       1107-14428-14428 (2-1)-20200129-1 (2188).JPG         짚업   \n1      1016705       1107-14428-14428 (2-1)-20200129-1 (2189).JPG         짚업   \n2      1016706       1107-14428-14428 (2-1)-20200129-1 (2190).JPG         짚업   \n3       367088                  158089482137760600_1359568660.jpg         재킷   \n4       367093                   158089482366643300_686358314.jpg         재킷   \n...        ...                                                ...        ...   \n4995    824376  2017_10 촬영원본-반-리ok-없음-13835-13835-lkt_1 (7237)...         코트   \n4996    824377  2017_10 촬영원본-반-리ok-없음-13835-13835-lkt_1 (7238)...         코트   \n4997    824378  2017_10 촬영원본-반-리ok-없음-13835-13835-lkt_1 (7239)...         코트   \n4998    824379  2017_10 촬영원본-반-리ok-없음-13835-13835-lkt_1 (7240)...         코트   \n4999    824380  2017_10 촬영원본-반-리ok-없음-13835-13835-lkt_1 (7241)...         코트   \n\n     outer_len  \n0           긴팔  \n1           긴팔  \n2           긴팔  \n3           긴팔  \n4           긴팔  \n...        ...  \n4995        긴팔  \n4996        긴팔  \n4997        긴팔  \n4998        긴팔  \n4999        긴팔  \n\n[5000 rows x 4 columns]",
      "text/html": "<div>\n<style scoped>\n    .dataframe tbody tr th:only-of-type {\n        vertical-align: middle;\n    }\n\n    .dataframe tbody tr th {\n        vertical-align: top;\n    }\n\n    .dataframe thead th {\n        text-align: right;\n    }\n</style>\n<table border=\"1\" class=\"dataframe\">\n  <thead>\n    <tr style=\"text-align: right;\">\n      <th></th>\n      <th>image_id</th>\n      <th>image_name</th>\n      <th>outer_cate</th>\n      <th>outer_len</th>\n    </tr>\n  </thead>\n  <tbody>\n    <tr>\n      <th>0</th>\n      <td>1016704</td>\n      <td>1107-14428-14428 (2-1)-20200129-1 (2188).JPG</td>\n      <td>짚업</td>\n      <td>긴팔</td>\n    </tr>\n    <tr>\n      <th>1</th>\n      <td>1016705</td>\n      <td>1107-14428-14428 (2-1)-20200129-1 (2189).JPG</td>\n      <td>짚업</td>\n      <td>긴팔</td>\n    </tr>\n    <tr>\n      <th>2</th>\n      <td>1016706</td>\n      <td>1107-14428-14428 (2-1)-20200129-1 (2190).JPG</td>\n      <td>짚업</td>\n      <td>긴팔</td>\n    </tr>\n    <tr>\n      <th>3</th>\n      <td>367088</td>\n      <td>158089482137760600_1359568660.jpg</td>\n      <td>재킷</td>\n      <td>긴팔</td>\n    </tr>\n    <tr>\n      <th>4</th>\n      <td>367093</td>\n      <td>158089482366643300_686358314.jpg</td>\n      <td>재킷</td>\n      <td>긴팔</td>\n    </tr>\n    <tr>\n      <th>...</th>\n      <td>...</td>\n      <td>...</td>\n      <td>...</td>\n      <td>...</td>\n    </tr>\n    <tr>\n      <th>4995</th>\n      <td>824376</td>\n      <td>2017_10 촬영원본-반-리ok-없음-13835-13835-lkt_1 (7237)...</td>\n      <td>코트</td>\n      <td>긴팔</td>\n    </tr>\n    <tr>\n      <th>4996</th>\n      <td>824377</td>\n      <td>2017_10 촬영원본-반-리ok-없음-13835-13835-lkt_1 (7238)...</td>\n      <td>코트</td>\n      <td>긴팔</td>\n    </tr>\n    <tr>\n      <th>4997</th>\n      <td>824378</td>\n      <td>2017_10 촬영원본-반-리ok-없음-13835-13835-lkt_1 (7239)...</td>\n      <td>코트</td>\n      <td>긴팔</td>\n    </tr>\n    <tr>\n      <th>4998</th>\n      <td>824379</td>\n      <td>2017_10 촬영원본-반-리ok-없음-13835-13835-lkt_1 (7240)...</td>\n      <td>코트</td>\n      <td>긴팔</td>\n    </tr>\n    <tr>\n      <th>4999</th>\n      <td>824380</td>\n      <td>2017_10 촬영원본-반-리ok-없음-13835-13835-lkt_1 (7241)...</td>\n      <td>코트</td>\n      <td>긴팔</td>\n    </tr>\n  </tbody>\n</table>\n<p>5000 rows × 4 columns</p>\n</div>"
     },
     "execution_count": 14,
     "metadata": {},
     "output_type": "execute_result"
    }
   ],
   "source": [
    "df_outer = pd.read_csv('C:\\k-fashion-dataset/Processed/preprocessed_outer.csv').drop([\"image_height\", \"image_width\"], axis=1).loc[0:4999]\n",
    "df_outer"
   ],
   "metadata": {
    "collapsed": false,
    "pycharm": {
     "name": "#%%\n"
    }
   }
  },
  {
   "cell_type": "code",
   "execution_count": 16,
   "outputs": [
    {
     "data": {
      "text/plain": "                                                   name cate len\n0          1107-14428-14428 (2-1)-20200129-1 (2188).JPG   짚업  긴팔\n1          1107-14428-14428 (2-1)-20200129-1 (2189).JPG   짚업  긴팔\n2          1107-14428-14428 (2-1)-20200129-1 (2190).JPG   짚업  긴팔\n3                     158089482137760600_1359568660.jpg   재킷  긴팔\n4                      158089482366643300_686358314.jpg   재킷  긴팔\n...                                                 ...  ...  ..\n4995  2017_10 촬영원본-반-리ok-없음-13835-13835-lkt_1 (7237)...   코트  긴팔\n4996  2017_10 촬영원본-반-리ok-없음-13835-13835-lkt_1 (7238)...   코트  긴팔\n4997  2017_10 촬영원본-반-리ok-없음-13835-13835-lkt_1 (7239)...   코트  긴팔\n4998  2017_10 촬영원본-반-리ok-없음-13835-13835-lkt_1 (7240)...   코트  긴팔\n4999  2017_10 촬영원본-반-리ok-없음-13835-13835-lkt_1 (7241)...   코트  긴팔\n\n[5000 rows x 3 columns]",
      "text/html": "<div>\n<style scoped>\n    .dataframe tbody tr th:only-of-type {\n        vertical-align: middle;\n    }\n\n    .dataframe tbody tr th {\n        vertical-align: top;\n    }\n\n    .dataframe thead th {\n        text-align: right;\n    }\n</style>\n<table border=\"1\" class=\"dataframe\">\n  <thead>\n    <tr style=\"text-align: right;\">\n      <th></th>\n      <th>name</th>\n      <th>cate</th>\n      <th>len</th>\n    </tr>\n  </thead>\n  <tbody>\n    <tr>\n      <th>0</th>\n      <td>1107-14428-14428 (2-1)-20200129-1 (2188).JPG</td>\n      <td>짚업</td>\n      <td>긴팔</td>\n    </tr>\n    <tr>\n      <th>1</th>\n      <td>1107-14428-14428 (2-1)-20200129-1 (2189).JPG</td>\n      <td>짚업</td>\n      <td>긴팔</td>\n    </tr>\n    <tr>\n      <th>2</th>\n      <td>1107-14428-14428 (2-1)-20200129-1 (2190).JPG</td>\n      <td>짚업</td>\n      <td>긴팔</td>\n    </tr>\n    <tr>\n      <th>3</th>\n      <td>158089482137760600_1359568660.jpg</td>\n      <td>재킷</td>\n      <td>긴팔</td>\n    </tr>\n    <tr>\n      <th>4</th>\n      <td>158089482366643300_686358314.jpg</td>\n      <td>재킷</td>\n      <td>긴팔</td>\n    </tr>\n    <tr>\n      <th>...</th>\n      <td>...</td>\n      <td>...</td>\n      <td>...</td>\n    </tr>\n    <tr>\n      <th>4995</th>\n      <td>2017_10 촬영원본-반-리ok-없음-13835-13835-lkt_1 (7237)...</td>\n      <td>코트</td>\n      <td>긴팔</td>\n    </tr>\n    <tr>\n      <th>4996</th>\n      <td>2017_10 촬영원본-반-리ok-없음-13835-13835-lkt_1 (7238)...</td>\n      <td>코트</td>\n      <td>긴팔</td>\n    </tr>\n    <tr>\n      <th>4997</th>\n      <td>2017_10 촬영원본-반-리ok-없음-13835-13835-lkt_1 (7239)...</td>\n      <td>코트</td>\n      <td>긴팔</td>\n    </tr>\n    <tr>\n      <th>4998</th>\n      <td>2017_10 촬영원본-반-리ok-없음-13835-13835-lkt_1 (7240)...</td>\n      <td>코트</td>\n      <td>긴팔</td>\n    </tr>\n    <tr>\n      <th>4999</th>\n      <td>2017_10 촬영원본-반-리ok-없음-13835-13835-lkt_1 (7241)...</td>\n      <td>코트</td>\n      <td>긴팔</td>\n    </tr>\n  </tbody>\n</table>\n<p>5000 rows × 3 columns</p>\n</div>"
     },
     "execution_count": 16,
     "metadata": {},
     "output_type": "execute_result"
    }
   ],
   "source": [
    "df_outer.rename(columns={'outer_cate':'cate'}, inplace=True)\n",
    "df_outer.rename(columns={'outer_len':'len'}, inplace=True)\n",
    "df_outer.rename(columns={'image_name':'name'}, inplace=True)\n",
    "df_outer.drop([\"image_id\"], axis=1, inplace=True)\n",
    "df_outer"
   ],
   "metadata": {
    "collapsed": false,
    "pycharm": {
     "name": "#%%\n"
    }
   }
  },
  {
   "cell_type": "code",
   "execution_count": 18,
   "outputs": [],
   "source": [
    "for index, row in df_outer.iterrows():\n",
    "    try:\n",
    "        name = 'C:\\img/{}'.format(row[\"name\"])\n",
    "        image = cv2.imread(name)\n",
    "        if image is None:\n",
    "            image = cv2.imread('C:\\img2/{}'.format(row[\"name\"]))\n",
    "        cv2.imwrite('C:/outer/{}'.format(row[\"name\"]), image)\n",
    "    except:\n",
    "        continue"
   ],
   "metadata": {
    "collapsed": false,
    "pycharm": {
     "name": "#%%\n"
    }
   }
  },
  {
   "cell_type": "code",
   "execution_count": 28,
   "outputs": [],
   "source": [
    "df_outer.to_csv('C:\\k-fashion-dataset/Processed/preprocessed_outer.csv', index = False, encoding='utf-8')"
   ],
   "metadata": {
    "collapsed": false,
    "pycharm": {
     "name": "#%%\n"
    }
   }
  },
  {
   "cell_type": "code",
   "execution_count": 27,
   "outputs": [
    {
     "data": {
      "text/plain": "                                                   name cate len\n0          1107-14428-14428 (2-1)-20200129-1 (2188).JPG   짚업  긴팔\n1          1107-14428-14428 (2-1)-20200129-1 (2189).JPG   짚업  긴팔\n2          1107-14428-14428 (2-1)-20200129-1 (2190).JPG   짚업  긴팔\n3                     158089482137760600_1359568660.jpg   재킷  긴팔\n4                      158089482366643300_686358314.jpg   재킷  긴팔\n...                                                 ...  ...  ..\n4995  2017_10 촬영원본-반-리ok-없음-13835-13835-lkt_1 (7237)...   코트  긴팔\n4996  2017_10 촬영원본-반-리ok-없음-13835-13835-lkt_1 (7238)...   코트  긴팔\n4997  2017_10 촬영원본-반-리ok-없음-13835-13835-lkt_1 (7239)...   코트  긴팔\n4998  2017_10 촬영원본-반-리ok-없음-13835-13835-lkt_1 (7240)...   코트  긴팔\n4999  2017_10 촬영원본-반-리ok-없음-13835-13835-lkt_1 (7241)...   코트  긴팔\n\n[5000 rows x 3 columns]",
      "text/html": "<div>\n<style scoped>\n    .dataframe tbody tr th:only-of-type {\n        vertical-align: middle;\n    }\n\n    .dataframe tbody tr th {\n        vertical-align: top;\n    }\n\n    .dataframe thead th {\n        text-align: right;\n    }\n</style>\n<table border=\"1\" class=\"dataframe\">\n  <thead>\n    <tr style=\"text-align: right;\">\n      <th></th>\n      <th>name</th>\n      <th>cate</th>\n      <th>len</th>\n    </tr>\n  </thead>\n  <tbody>\n    <tr>\n      <th>0</th>\n      <td>1107-14428-14428 (2-1)-20200129-1 (2188).JPG</td>\n      <td>짚업</td>\n      <td>긴팔</td>\n    </tr>\n    <tr>\n      <th>1</th>\n      <td>1107-14428-14428 (2-1)-20200129-1 (2189).JPG</td>\n      <td>짚업</td>\n      <td>긴팔</td>\n    </tr>\n    <tr>\n      <th>2</th>\n      <td>1107-14428-14428 (2-1)-20200129-1 (2190).JPG</td>\n      <td>짚업</td>\n      <td>긴팔</td>\n    </tr>\n    <tr>\n      <th>3</th>\n      <td>158089482137760600_1359568660.jpg</td>\n      <td>재킷</td>\n      <td>긴팔</td>\n    </tr>\n    <tr>\n      <th>4</th>\n      <td>158089482366643300_686358314.jpg</td>\n      <td>재킷</td>\n      <td>긴팔</td>\n    </tr>\n    <tr>\n      <th>...</th>\n      <td>...</td>\n      <td>...</td>\n      <td>...</td>\n    </tr>\n    <tr>\n      <th>4995</th>\n      <td>2017_10 촬영원본-반-리ok-없음-13835-13835-lkt_1 (7237)...</td>\n      <td>코트</td>\n      <td>긴팔</td>\n    </tr>\n    <tr>\n      <th>4996</th>\n      <td>2017_10 촬영원본-반-리ok-없음-13835-13835-lkt_1 (7238)...</td>\n      <td>코트</td>\n      <td>긴팔</td>\n    </tr>\n    <tr>\n      <th>4997</th>\n      <td>2017_10 촬영원본-반-리ok-없음-13835-13835-lkt_1 (7239)...</td>\n      <td>코트</td>\n      <td>긴팔</td>\n    </tr>\n    <tr>\n      <th>4998</th>\n      <td>2017_10 촬영원본-반-리ok-없음-13835-13835-lkt_1 (7240)...</td>\n      <td>코트</td>\n      <td>긴팔</td>\n    </tr>\n    <tr>\n      <th>4999</th>\n      <td>2017_10 촬영원본-반-리ok-없음-13835-13835-lkt_1 (7241)...</td>\n      <td>코트</td>\n      <td>긴팔</td>\n    </tr>\n  </tbody>\n</table>\n<p>5000 rows × 3 columns</p>\n</div>"
     },
     "execution_count": 27,
     "metadata": {},
     "output_type": "execute_result"
    }
   ],
   "source": [
    "df_outer"
   ],
   "metadata": {
    "collapsed": false,
    "pycharm": {
     "name": "#%%\n"
    }
   }
  },
  {
   "cell_type": "code",
   "execution_count": null,
   "outputs": [],
   "source": [],
   "metadata": {
    "collapsed": false,
    "pycharm": {
     "name": "#%%\n"
    }
   }
  }
 ],
 "metadata": {
  "kernelspec": {
   "display_name": "Python 3",
   "language": "python",
   "name": "python3"
  },
  "language_info": {
   "codemirror_mode": {
    "name": "ipython",
    "version": 2
   },
   "file_extension": ".py",
   "mimetype": "text/x-python",
   "name": "python",
   "nbconvert_exporter": "python",
   "pygments_lexer": "ipython2",
   "version": "2.7.6"
  }
 },
 "nbformat": 4,
 "nbformat_minor": 0
}