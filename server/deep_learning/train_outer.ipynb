{
 "cells": [
  {
   "cell_type": "code",
   "execution_count": 6,
   "metadata": {
    "collapsed": true
   },
   "outputs": [],
   "source": [
    "from ast import literal_eval\n",
    "import glob2\n",
    "import pandas as pd\n",
    "import numpy as np\n",
    "import json\n",
    "import csv\n",
    "import keras\n",
    "from keras.models import Sequential\n",
    "from keras.layers import Dense, Dropout, Flatten\n",
    "from keras.layers import Conv2D, MaxPooling2D\n",
    "from tensorflow.keras.utils import to_categorical\n",
    "from keras.preprocessing import image\n",
    "import matplotlib.pyplot as plt\n",
    "from sklearn.model_selection import train_test_split\n",
    "from random import randint\n",
    "import os.path\n",
    "from tqdm import tqdm\n",
    "%matplotlib inline"
   ]
  },
  {
   "cell_type": "code",
   "execution_count": 7,
   "outputs": [
    {
     "data": {
      "text/plain": "       image_id                                    image_name  image_height  \\\n0       1016704  1107-14428-14428 (2-1)-20200129-1 (2188).JPG           800   \n1       1016705  1107-14428-14428 (2-1)-20200129-1 (2189).JPG           800   \n2       1016706  1107-14428-14428 (2-1)-20200129-1 (2190).JPG           800   \n3        367088             158089482137760600_1359568660.jpg          1066   \n4        367093              158089482366643300_686358314.jpg          1066   \n...         ...                                           ...           ...   \n19836    931762                          20200929-1 (705).JPG           800   \n19837    931763                          20200929-1 (706).JPG           800   \n19838    931775                          20200929-1 (718).JPG           800   \n19839    931781                          20200929-1 (724).JPG           800   \n19840    931782                          20200929-1 (725).JPG           800   \n\n       image_width outer_cate outer_len outer_mat  \n0              800         짚업        긴팔        우븐  \n1              800         짚업        긴팔        우븐  \n2              800         짚업        긴팔        우븐  \n3              800         재킷        긴팔        데님  \n4              800         재킷        긴팔        데님  \n...            ...        ...       ...       ...  \n19836          800        베스트       민소매        니트  \n19837          800        베스트       민소매        니트  \n19838          800        베스트       민소매        니트  \n19839          800        베스트       민소매        니트  \n19840          800        베스트       민소매        니트  \n\n[19841 rows x 7 columns]",
      "text/html": "<div>\n<style scoped>\n    .dataframe tbody tr th:only-of-type {\n        vertical-align: middle;\n    }\n\n    .dataframe tbody tr th {\n        vertical-align: top;\n    }\n\n    .dataframe thead th {\n        text-align: right;\n    }\n</style>\n<table border=\"1\" class=\"dataframe\">\n  <thead>\n    <tr style=\"text-align: right;\">\n      <th></th>\n      <th>image_id</th>\n      <th>image_name</th>\n      <th>image_height</th>\n      <th>image_width</th>\n      <th>outer_cate</th>\n      <th>outer_len</th>\n      <th>outer_mat</th>\n    </tr>\n  </thead>\n  <tbody>\n    <tr>\n      <th>0</th>\n      <td>1016704</td>\n      <td>1107-14428-14428 (2-1)-20200129-1 (2188).JPG</td>\n      <td>800</td>\n      <td>800</td>\n      <td>짚업</td>\n      <td>긴팔</td>\n      <td>우븐</td>\n    </tr>\n    <tr>\n      <th>1</th>\n      <td>1016705</td>\n      <td>1107-14428-14428 (2-1)-20200129-1 (2189).JPG</td>\n      <td>800</td>\n      <td>800</td>\n      <td>짚업</td>\n      <td>긴팔</td>\n      <td>우븐</td>\n    </tr>\n    <tr>\n      <th>2</th>\n      <td>1016706</td>\n      <td>1107-14428-14428 (2-1)-20200129-1 (2190).JPG</td>\n      <td>800</td>\n      <td>800</td>\n      <td>짚업</td>\n      <td>긴팔</td>\n      <td>우븐</td>\n    </tr>\n    <tr>\n      <th>3</th>\n      <td>367088</td>\n      <td>158089482137760600_1359568660.jpg</td>\n      <td>1066</td>\n      <td>800</td>\n      <td>재킷</td>\n      <td>긴팔</td>\n      <td>데님</td>\n    </tr>\n    <tr>\n      <th>4</th>\n      <td>367093</td>\n      <td>158089482366643300_686358314.jpg</td>\n      <td>1066</td>\n      <td>800</td>\n      <td>재킷</td>\n      <td>긴팔</td>\n      <td>데님</td>\n    </tr>\n    <tr>\n      <th>...</th>\n      <td>...</td>\n      <td>...</td>\n      <td>...</td>\n      <td>...</td>\n      <td>...</td>\n      <td>...</td>\n      <td>...</td>\n    </tr>\n    <tr>\n      <th>19836</th>\n      <td>931762</td>\n      <td>20200929-1 (705).JPG</td>\n      <td>800</td>\n      <td>800</td>\n      <td>베스트</td>\n      <td>민소매</td>\n      <td>니트</td>\n    </tr>\n    <tr>\n      <th>19837</th>\n      <td>931763</td>\n      <td>20200929-1 (706).JPG</td>\n      <td>800</td>\n      <td>800</td>\n      <td>베스트</td>\n      <td>민소매</td>\n      <td>니트</td>\n    </tr>\n    <tr>\n      <th>19838</th>\n      <td>931775</td>\n      <td>20200929-1 (718).JPG</td>\n      <td>800</td>\n      <td>800</td>\n      <td>베스트</td>\n      <td>민소매</td>\n      <td>니트</td>\n    </tr>\n    <tr>\n      <th>19839</th>\n      <td>931781</td>\n      <td>20200929-1 (724).JPG</td>\n      <td>800</td>\n      <td>800</td>\n      <td>베스트</td>\n      <td>민소매</td>\n      <td>니트</td>\n    </tr>\n    <tr>\n      <th>19840</th>\n      <td>931782</td>\n      <td>20200929-1 (725).JPG</td>\n      <td>800</td>\n      <td>800</td>\n      <td>베스트</td>\n      <td>민소매</td>\n      <td>니트</td>\n    </tr>\n  </tbody>\n</table>\n<p>19841 rows × 7 columns</p>\n</div>"
     },
     "execution_count": 7,
     "metadata": {},
     "output_type": "execute_result"
    }
   ],
   "source": [
    "outer = pd.read_csv('label_outer.csv', encoding='utf-8')\n",
    "outer"
   ],
   "metadata": {
    "collapsed": false,
    "pycharm": {
     "name": "#%%\n"
    }
   }
  },
  {
   "cell_type": "code",
   "execution_count": 8,
   "outputs": [
    {
     "data": {
      "text/plain": "       image_id                                    image_name  image_height  \\\n0       1016704  1107-14428-14428 (2-1)-20200129-1 (2188).JPG           800   \n1       1016705  1107-14428-14428 (2-1)-20200129-1 (2189).JPG           800   \n2       1016706  1107-14428-14428 (2-1)-20200129-1 (2190).JPG           800   \n3        367088             158089482137760600_1359568660.jpg          1066   \n4        367093              158089482366643300_686358314.jpg          1066   \n...         ...                                           ...           ...   \n19836    931762                          20200929-1 (705).JPG           800   \n19837    931763                          20200929-1 (706).JPG           800   \n19838    931775                          20200929-1 (718).JPG           800   \n19839    931781                          20200929-1 (724).JPG           800   \n19840    931782                          20200929-1 (725).JPG           800   \n\n       image_width  outer_cate_가디건  outer_cate_베스트  outer_cate_재킷  \\\n0              800               0               0              0   \n1              800               0               0              0   \n2              800               0               0              0   \n3              800               0               0              1   \n4              800               0               0              1   \n...            ...             ...             ...            ...   \n19836          800               0               1              0   \n19837          800               0               1              0   \n19838          800               0               1              0   \n19839          800               0               1              0   \n19840          800               0               1              0   \n\n       outer_cate_점퍼  outer_cate_짚업  outer_cate_코트  ...  outer_mat_우븐  \\\n0                  0              1              0  ...             1   \n1                  0              1              0  ...             1   \n2                  0              1              0  ...             1   \n3                  0              0              0  ...             0   \n4                  0              0              0  ...             0   \n...              ...            ...            ...  ...           ...   \n19836              0              0              0  ...             0   \n19837              0              0              0  ...             0   \n19838              0              0              0  ...             0   \n19839              0              0              0  ...             0   \n19840              0              0              0  ...             0   \n\n       outer_mat_울/캐시미어  outer_mat_자카드  outer_mat_저지  outer_mat_코듀로이  \\\n0                     0              0             0               0   \n1                     0              0             0               0   \n2                     0              0             0               0   \n3                     0              0             0               0   \n4                     0              0             0               0   \n...                 ...            ...           ...             ...   \n19836                 0              0             0               0   \n19837                 0              0             0               0   \n19838                 0              0             0               0   \n19839                 0              0             0               0   \n19840                 0              0             0               0   \n\n       outer_mat_트위드  outer_mat_패딩  outer_mat_퍼  outer_mat_플리스  \\\n0                  0             0            0              0   \n1                  0             0            0              0   \n2                  0             0            0              0   \n3                  0             0            0              0   \n4                  0             0            0              0   \n...              ...           ...          ...            ...   \n19836              0             0            0              0   \n19837              0             0            0              0   \n19838              0             0            0              0   \n19839              0             0            0              0   \n19840              0             0            0              0   \n\n       outer_mat_헤어 니트  \n0                    0  \n1                    0  \n2                    0  \n3                    0  \n4                    0  \n...                ...  \n19836                0  \n19837                0  \n19838                0  \n19839                0  \n19840                0  \n\n[19841 rows x 39 columns]",
      "text/html": "<div>\n<style scoped>\n    .dataframe tbody tr th:only-of-type {\n        vertical-align: middle;\n    }\n\n    .dataframe tbody tr th {\n        vertical-align: top;\n    }\n\n    .dataframe thead th {\n        text-align: right;\n    }\n</style>\n<table border=\"1\" class=\"dataframe\">\n  <thead>\n    <tr style=\"text-align: right;\">\n      <th></th>\n      <th>image_id</th>\n      <th>image_name</th>\n      <th>image_height</th>\n      <th>image_width</th>\n      <th>outer_cate_가디건</th>\n      <th>outer_cate_베스트</th>\n      <th>outer_cate_재킷</th>\n      <th>outer_cate_점퍼</th>\n      <th>outer_cate_짚업</th>\n      <th>outer_cate_코트</th>\n      <th>...</th>\n      <th>outer_mat_우븐</th>\n      <th>outer_mat_울/캐시미어</th>\n      <th>outer_mat_자카드</th>\n      <th>outer_mat_저지</th>\n      <th>outer_mat_코듀로이</th>\n      <th>outer_mat_트위드</th>\n      <th>outer_mat_패딩</th>\n      <th>outer_mat_퍼</th>\n      <th>outer_mat_플리스</th>\n      <th>outer_mat_헤어 니트</th>\n    </tr>\n  </thead>\n  <tbody>\n    <tr>\n      <th>0</th>\n      <td>1016704</td>\n      <td>1107-14428-14428 (2-1)-20200129-1 (2188).JPG</td>\n      <td>800</td>\n      <td>800</td>\n      <td>0</td>\n      <td>0</td>\n      <td>0</td>\n      <td>0</td>\n      <td>1</td>\n      <td>0</td>\n      <td>...</td>\n      <td>1</td>\n      <td>0</td>\n      <td>0</td>\n      <td>0</td>\n      <td>0</td>\n      <td>0</td>\n      <td>0</td>\n      <td>0</td>\n      <td>0</td>\n      <td>0</td>\n    </tr>\n    <tr>\n      <th>1</th>\n      <td>1016705</td>\n      <td>1107-14428-14428 (2-1)-20200129-1 (2189).JPG</td>\n      <td>800</td>\n      <td>800</td>\n      <td>0</td>\n      <td>0</td>\n      <td>0</td>\n      <td>0</td>\n      <td>1</td>\n      <td>0</td>\n      <td>...</td>\n      <td>1</td>\n      <td>0</td>\n      <td>0</td>\n      <td>0</td>\n      <td>0</td>\n      <td>0</td>\n      <td>0</td>\n      <td>0</td>\n      <td>0</td>\n      <td>0</td>\n    </tr>\n    <tr>\n      <th>2</th>\n      <td>1016706</td>\n      <td>1107-14428-14428 (2-1)-20200129-1 (2190).JPG</td>\n      <td>800</td>\n      <td>800</td>\n      <td>0</td>\n      <td>0</td>\n      <td>0</td>\n      <td>0</td>\n      <td>1</td>\n      <td>0</td>\n      <td>...</td>\n      <td>1</td>\n      <td>0</td>\n      <td>0</td>\n      <td>0</td>\n      <td>0</td>\n      <td>0</td>\n      <td>0</td>\n      <td>0</td>\n      <td>0</td>\n      <td>0</td>\n    </tr>\n    <tr>\n      <th>3</th>\n      <td>367088</td>\n      <td>158089482137760600_1359568660.jpg</td>\n      <td>1066</td>\n      <td>800</td>\n      <td>0</td>\n      <td>0</td>\n      <td>1</td>\n      <td>0</td>\n      <td>0</td>\n      <td>0</td>\n      <td>...</td>\n      <td>0</td>\n      <td>0</td>\n      <td>0</td>\n      <td>0</td>\n      <td>0</td>\n      <td>0</td>\n      <td>0</td>\n      <td>0</td>\n      <td>0</td>\n      <td>0</td>\n    </tr>\n    <tr>\n      <th>4</th>\n      <td>367093</td>\n      <td>158089482366643300_686358314.jpg</td>\n      <td>1066</td>\n      <td>800</td>\n      <td>0</td>\n      <td>0</td>\n      <td>1</td>\n      <td>0</td>\n      <td>0</td>\n      <td>0</td>\n      <td>...</td>\n      <td>0</td>\n      <td>0</td>\n      <td>0</td>\n      <td>0</td>\n      <td>0</td>\n      <td>0</td>\n      <td>0</td>\n      <td>0</td>\n      <td>0</td>\n      <td>0</td>\n    </tr>\n    <tr>\n      <th>...</th>\n      <td>...</td>\n      <td>...</td>\n      <td>...</td>\n      <td>...</td>\n      <td>...</td>\n      <td>...</td>\n      <td>...</td>\n      <td>...</td>\n      <td>...</td>\n      <td>...</td>\n      <td>...</td>\n      <td>...</td>\n      <td>...</td>\n      <td>...</td>\n      <td>...</td>\n      <td>...</td>\n      <td>...</td>\n      <td>...</td>\n      <td>...</td>\n      <td>...</td>\n      <td>...</td>\n    </tr>\n    <tr>\n      <th>19836</th>\n      <td>931762</td>\n      <td>20200929-1 (705).JPG</td>\n      <td>800</td>\n      <td>800</td>\n      <td>0</td>\n      <td>1</td>\n      <td>0</td>\n      <td>0</td>\n      <td>0</td>\n      <td>0</td>\n      <td>...</td>\n      <td>0</td>\n      <td>0</td>\n      <td>0</td>\n      <td>0</td>\n      <td>0</td>\n      <td>0</td>\n      <td>0</td>\n      <td>0</td>\n      <td>0</td>\n      <td>0</td>\n    </tr>\n    <tr>\n      <th>19837</th>\n      <td>931763</td>\n      <td>20200929-1 (706).JPG</td>\n      <td>800</td>\n      <td>800</td>\n      <td>0</td>\n      <td>1</td>\n      <td>0</td>\n      <td>0</td>\n      <td>0</td>\n      <td>0</td>\n      <td>...</td>\n      <td>0</td>\n      <td>0</td>\n      <td>0</td>\n      <td>0</td>\n      <td>0</td>\n      <td>0</td>\n      <td>0</td>\n      <td>0</td>\n      <td>0</td>\n      <td>0</td>\n    </tr>\n    <tr>\n      <th>19838</th>\n      <td>931775</td>\n      <td>20200929-1 (718).JPG</td>\n      <td>800</td>\n      <td>800</td>\n      <td>0</td>\n      <td>1</td>\n      <td>0</td>\n      <td>0</td>\n      <td>0</td>\n      <td>0</td>\n      <td>...</td>\n      <td>0</td>\n      <td>0</td>\n      <td>0</td>\n      <td>0</td>\n      <td>0</td>\n      <td>0</td>\n      <td>0</td>\n      <td>0</td>\n      <td>0</td>\n      <td>0</td>\n    </tr>\n    <tr>\n      <th>19839</th>\n      <td>931781</td>\n      <td>20200929-1 (724).JPG</td>\n      <td>800</td>\n      <td>800</td>\n      <td>0</td>\n      <td>1</td>\n      <td>0</td>\n      <td>0</td>\n      <td>0</td>\n      <td>0</td>\n      <td>...</td>\n      <td>0</td>\n      <td>0</td>\n      <td>0</td>\n      <td>0</td>\n      <td>0</td>\n      <td>0</td>\n      <td>0</td>\n      <td>0</td>\n      <td>0</td>\n      <td>0</td>\n    </tr>\n    <tr>\n      <th>19840</th>\n      <td>931782</td>\n      <td>20200929-1 (725).JPG</td>\n      <td>800</td>\n      <td>800</td>\n      <td>0</td>\n      <td>1</td>\n      <td>0</td>\n      <td>0</td>\n      <td>0</td>\n      <td>0</td>\n      <td>...</td>\n      <td>0</td>\n      <td>0</td>\n      <td>0</td>\n      <td>0</td>\n      <td>0</td>\n      <td>0</td>\n      <td>0</td>\n      <td>0</td>\n      <td>0</td>\n      <td>0</td>\n    </tr>\n  </tbody>\n</table>\n<p>19841 rows × 39 columns</p>\n</div>"
     },
     "execution_count": 8,
     "metadata": {},
     "output_type": "execute_result"
    }
   ],
   "source": [
    "df_outer = pd.get_dummies(data = outer, columns = ['outer_cate', 'outer_len', 'outer_mat'])\n",
    "df_outer"
   ],
   "metadata": {
    "collapsed": false,
    "pycharm": {
     "name": "#%%\n"
    }
   }
  },
  {
   "cell_type": "code",
   "execution_count": 9,
   "outputs": [
    {
     "data": {
      "text/plain": "Index(['image_id', 'image_name', 'image_height', 'image_width',\n       'outer_cate_가디건', 'outer_cate_베스트', 'outer_cate_재킷', 'outer_cate_점퍼',\n       'outer_cate_짚업', 'outer_cate_코트', 'outer_cate_패딩', 'outer_len_7부소매',\n       'outer_len_긴팔', 'outer_len_민소매', 'outer_len_반팔', 'outer_len_캡',\n       'outer_mat_가죽', 'outer_mat_네오프렌', 'outer_mat_니트', 'outer_mat_데님',\n       'outer_mat_레이스', 'outer_mat_린넨', 'outer_mat_메시', 'outer_mat_무스탕',\n       'outer_mat_벨벳', 'outer_mat_비닐/PVC', 'outer_mat_스웨이드', 'outer_mat_시폰',\n       'outer_mat_실크', 'outer_mat_우븐', 'outer_mat_울/캐시미어', 'outer_mat_자카드',\n       'outer_mat_저지', 'outer_mat_코듀로이', 'outer_mat_트위드', 'outer_mat_패딩',\n       'outer_mat_퍼', 'outer_mat_플리스', 'outer_mat_헤어 니트'],\n      dtype='object')"
     },
     "execution_count": 9,
     "metadata": {},
     "output_type": "execute_result"
    }
   ],
   "source": [
    "df_outer.columns"
   ],
   "metadata": {
    "collapsed": false,
    "pycharm": {
     "name": "#%%\n"
    }
   }
  },
  {
   "cell_type": "code",
   "execution_count": 10,
   "outputs": [],
   "source": [
    "from keras.preprocessing import image\n",
    "from tqdm import tqdm"
   ],
   "metadata": {
    "collapsed": false,
    "pycharm": {
     "name": "#%%\n"
    }
   }
  },
  {
   "cell_type": "code",
   "execution_count": 11,
   "outputs": [
    {
     "name": "stderr",
     "output_type": "stream",
     "text": [
      "100%|██████████| 1200/1200 [00:15<00:00, 77.78it/s]\n"
     ]
    }
   ],
   "source": [
    "train_image = []\n",
    "for i in tqdm(range(300, 1500)):\n",
    "    if os.path.isfile('C:/img/' + df_outer['image_name'][i]):\n",
    "        img = image.load_img('C:/img/' + df_outer['image_name'][i],target_size=(400,400,3))\n",
    "    if os.path.isfile('C:/img2/' + df_outer['image_name'][i]):\n",
    "        img = image.load_img('C:/img2/' + df_outer['image_name'][i],target_size=(400,400,3))\n",
    "    img = image.img_to_array(img)\n",
    "    img = img/255\n",
    "    train_image.append(img)"
   ],
   "metadata": {
    "collapsed": false,
    "pycharm": {
     "name": "#%%\n"
    }
   }
  },
  {
   "cell_type": "code",
   "execution_count": 12,
   "outputs": [
    {
     "name": "stdout",
     "output_type": "stream",
     "text": [
      "1200\n"
     ]
    }
   ],
   "source": [
    "print(len(train_image))"
   ],
   "metadata": {
    "collapsed": false,
    "pycharm": {
     "name": "#%%\n"
    }
   }
  },
  {
   "cell_type": "code",
   "execution_count": 13,
   "outputs": [
    {
     "data": {
      "text/plain": "(1200, 400, 400, 3)"
     },
     "execution_count": 13,
     "metadata": {},
     "output_type": "execute_result"
    }
   ],
   "source": [
    "X = np.array(train_image)\n",
    "X.shape"
   ],
   "metadata": {
    "collapsed": false,
    "pycharm": {
     "name": "#%%\n"
    }
   }
  },
  {
   "cell_type": "code",
   "execution_count": 14,
   "outputs": [
    {
     "data": {
      "text/plain": "<matplotlib.image.AxesImage at 0x138009a2eb0>"
     },
     "execution_count": 14,
     "metadata": {},
     "output_type": "execute_result"
    },
    {
     "data": {
      "text/plain": "<Figure size 432x288 with 1 Axes>",
      "image/png": "[encoded data removed]"
     },
     "metadata": {
      "needs_background": "light"
     },
     "output_type": "display_data"
    }
   ],
   "source": [
    "plt.imshow(X[190])"
   ],
   "metadata": {
    "collapsed": false,
    "pycharm": {
     "name": "#%%\n"
    }
   }
  },
  {
   "cell_type": "code",
   "execution_count": 16,
   "outputs": [
    {
     "data": {
      "text/plain": "1200"
     },
     "execution_count": 16,
     "metadata": {},
     "output_type": "execute_result"
    }
   ],
   "source": [
    "y = np.array(df_outer.drop(['image_id', 'image_name', 'image_height', 'image_width'], axis=1)[300:1500])\n",
    "len(y)"
   ],
   "metadata": {
    "collapsed": false,
    "pycharm": {
     "name": "#%%\n"
    }
   }
  },
  {
   "cell_type": "code",
   "execution_count": 17,
   "outputs": [],
   "source": [
    "X_train, X_test, y_train, y_test = train_test_split(X, y, random_state=42, test_size=0.1)"
   ],
   "metadata": {
    "collapsed": false,
    "pycharm": {
     "name": "#%%\n"
    }
   }
  },
  {
   "cell_type": "code",
   "execution_count": 18,
   "outputs": [
    {
     "name": "stdout",
     "output_type": "stream",
     "text": [
      "(1080, 400, 400, 3)\n",
      "(1080, 35)\n"
     ]
    }
   ],
   "source": [
    "print(X_train.shape)\n",
    "print(y_train.shape)"
   ],
   "metadata": {
    "collapsed": false,
    "pycharm": {
     "name": "#%%\n"
    }
   }
  },
  {
   "cell_type": "code",
   "execution_count": 15,
   "outputs": [],
   "source": [
    "model = Sequential()\n",
    "model.add(Conv2D(filters=16, kernel_size=(5, 5), activation=\"relu\", input_shape=(400,400,3)))\n",
    "model.add(MaxPooling2D(pool_size=(2, 2)))\n",
    "model.add(Dropout(0.25))\n",
    "model.add(Conv2D(filters=32, kernel_size=(5, 5), activation='relu'))\n",
    "model.add(MaxPooling2D(pool_size=(2, 2)))\n",
    "model.add(Dropout(0.25))\n",
    "model.add(Conv2D(filters=64, kernel_size=(5, 5), activation=\"relu\"))\n",
    "model.add(MaxPooling2D(pool_size=(2, 2)))\n",
    "model.add(Dropout(0.25))\n",
    "model.add(Conv2D(filters=64, kernel_size=(5, 5), activation='relu'))\n",
    "model.add(MaxPooling2D(pool_size=(2, 2)))\n",
    "model.add(Dropout(0.25))\n",
    "model.add(Flatten())\n",
    "model.add(Dense(128, activation='relu'))\n",
    "model.add(Dropout(0.5))\n",
    "model.add(Dense(64, activation='relu'))\n",
    "model.add(Dropout(0.5))\n",
    "model.add(Dense(35, activation='sigmoid'))"
   ],
   "metadata": {
    "collapsed": false,
    "pycharm": {
     "name": "#%%\n"
    }
   }
  },
  {
   "cell_type": "code",
   "execution_count": 16,
   "outputs": [
    {
     "name": "stdout",
     "output_type": "stream",
     "text": [
      "Model: \"sequential\"\n",
      "_________________________________________________________________\n",
      "Layer (type)                 Output Shape              Param #   \n",
      "=================================================================\n",
      "conv2d (Conv2D)              (None, 396, 396, 16)      1216      \n",
      "_________________________________________________________________\n",
      "max_pooling2d (MaxPooling2D) (None, 198, 198, 16)      0         \n",
      "_________________________________________________________________\n",
      "dropout (Dropout)            (None, 198, 198, 16)      0         \n",
      "_________________________________________________________________\n",
      "conv2d_1 (Conv2D)            (None, 194, 194, 32)      12832     \n",
      "_________________________________________________________________\n",
      "max_pooling2d_1 (MaxPooling2 (None, 97, 97, 32)        0         \n",
      "_________________________________________________________________\n",
      "dropout_1 (Dropout)          (None, 97, 97, 32)        0         \n",
      "_________________________________________________________________\n",
      "conv2d_2 (Conv2D)            (None, 93, 93, 64)        51264     \n",
      "_________________________________________________________________\n",
      "max_pooling2d_2 (MaxPooling2 (None, 46, 46, 64)        0         \n",
      "_________________________________________________________________\n",
      "dropout_2 (Dropout)          (None, 46, 46, 64)        0         \n",
      "_________________________________________________________________\n",
      "conv2d_3 (Conv2D)            (None, 42, 42, 64)        102464    \n",
      "_________________________________________________________________\n",
      "max_pooling2d_3 (MaxPooling2 (None, 21, 21, 64)        0         \n",
      "_________________________________________________________________\n",
      "dropout_3 (Dropout)          (None, 21, 21, 64)        0         \n",
      "_________________________________________________________________\n",
      "flatten (Flatten)            (None, 28224)             0         \n",
      "_________________________________________________________________\n",
      "dense (Dense)                (None, 128)               3612800   \n",
      "_________________________________________________________________\n",
      "dropout_4 (Dropout)          (None, 128)               0         \n",
      "_________________________________________________________________\n",
      "dense_1 (Dense)              (None, 64)                8256      \n",
      "_________________________________________________________________\n",
      "dropout_5 (Dropout)          (None, 64)                0         \n",
      "_________________________________________________________________\n",
      "dense_2 (Dense)              (None, 35)                2275      \n",
      "=================================================================\n",
      "Total params: 3,791,107\n",
      "Trainable params: 3,791,107\n",
      "Non-trainable params: 0\n",
      "_________________________________________________________________\n"
     ]
    }
   ],
   "source": [
    "model.summary()"
   ],
   "metadata": {
    "collapsed": false,
    "pycharm": {
     "name": "#%%\n"
    }
   }
  },
  {
   "cell_type": "code",
   "execution_count": 17,
   "outputs": [],
   "source": [
    "model.compile(optimizer='adam', loss='binary_crossentropy', metrics=['accuracy'])"
   ],
   "metadata": {
    "collapsed": false,
    "pycharm": {
     "name": "#%%\n"
    }
   }
  },
  {
   "cell_type": "code",
   "execution_count": 19,
   "outputs": [],
   "source": [
    "reconstructed_model = keras.models.load_model(\"model_outer.h5\")"
   ],
   "metadata": {
    "collapsed": false,
    "pycharm": {
     "name": "#%%\n"
    }
   }
  },
  {
   "cell_type": "code",
   "execution_count": null,
   "outputs": [
    {
     "name": "stdout",
     "output_type": "stream",
     "text": [
      "Epoch 1/10\n"
     ]
    }
   ],
   "source": [
    "reconstructed_model.fit(X_train, y_train, epochs=10, validation_data=(X_test, y_test), batch_size=64)"
   ],
   "metadata": {
    "collapsed": false,
    "pycharm": {
     "name": "#%%\n",
     "is_executing": true
    }
   }
  },
  {
   "cell_type": "code",
   "execution_count": 1,
   "outputs": [
    {
     "ename": "NameError",
     "evalue": "name 'model' is not defined",
     "output_type": "error",
     "traceback": [
      "\u001B[1;31m---------------------------------------------------------------------------\u001B[0m",
      "\u001B[1;31mNameError\u001B[0m                                 Traceback (most recent call last)",
      "\u001B[1;32mc:\\Temp/ipykernel_23572/2012890021.py\u001B[0m in \u001B[0;36m<module>\u001B[1;34m\u001B[0m\n\u001B[0;32m      1\u001B[0m \u001B[1;32mfor\u001B[0m \u001B[0mi\u001B[0m \u001B[1;32min\u001B[0m \u001B[0mrange\u001B[0m\u001B[1;33m(\u001B[0m\u001B[1;36m5\u001B[0m\u001B[1;33m)\u001B[0m\u001B[1;33m:\u001B[0m\u001B[1;33m\u001B[0m\u001B[1;33m\u001B[0m\u001B[0m\n\u001B[1;32m----> 2\u001B[1;33m     \u001B[0mmodel\u001B[0m\u001B[1;33m.\u001B[0m\u001B[0mfit\u001B[0m\u001B[1;33m(\u001B[0m\u001B[0mX_train\u001B[0m\u001B[1;33m,\u001B[0m \u001B[0my_train\u001B[0m\u001B[1;33m,\u001B[0m \u001B[0mepochs\u001B[0m\u001B[1;33m=\u001B[0m\u001B[1;36m10\u001B[0m\u001B[1;33m,\u001B[0m \u001B[0mvalidation_data\u001B[0m\u001B[1;33m=\u001B[0m\u001B[1;33m(\u001B[0m\u001B[0mX_test\u001B[0m\u001B[1;33m,\u001B[0m \u001B[0my_test\u001B[0m\u001B[1;33m)\u001B[0m\u001B[1;33m,\u001B[0m \u001B[0mbatch_size\u001B[0m\u001B[1;33m=\u001B[0m\u001B[1;36m64\u001B[0m\u001B[1;33m)\u001B[0m\u001B[1;33m\u001B[0m\u001B[1;33m\u001B[0m\u001B[0m\n\u001B[0m",
      "\u001B[1;31mNameError\u001B[0m: name 'model' is not defined"
     ]
    }
   ],
   "source": [
    "for i in range(5):\n",
    "    reconstructed_model.fit(X_train, y_train, epochs=10, validation_data=(X_test, y_test), batch_size=64)"
   ],
   "metadata": {
    "collapsed": false,
    "pycharm": {
     "name": "#%%\n"
    }
   }
  },
  {
   "cell_type": "code",
   "execution_count": null,
   "outputs": [],
   "source": [
    "loss_and_metrics = model.evaluate(X_test, y_test, batch_size=64)\n",
    "print('')\n",
    "print('loss_and_metrics : ' + str(loss_and_metrics))"
   ],
   "metadata": {
    "collapsed": false,
    "pycharm": {
     "name": "#%%\n",
     "is_executing": true
    }
   }
  },
  {
   "cell_type": "code",
   "execution_count": null,
   "outputs": [],
   "source": [
    "model.save('model_outer.h5')\n",
    "print('saved')"
   ],
   "metadata": {
    "collapsed": false,
    "pycharm": {
     "name": "#%%\n",
     "is_executing": true
    }
   }
  },
  {
   "cell_type": "code",
   "execution_count": 26,
   "outputs": [],
   "source": [
    "def count_correct_result(list, result):\n",
    "    answer = 0\n",
    "    list_answer = []\n",
    "    style_list = list[0:7].tolist()\n",
    "    len_list = list[7:12].tolist()\n",
    "    mat_list = list[12: 35].tolist()\n",
    "    list_answer.append(style_list.index(max(style_list)))\n",
    "    list_answer.append(len_list.index(max(len_list)) + 7)\n",
    "    list_answer.append(mat_list.index(max(mat_list)) + 13)\n",
    "    for i in result:\n",
    "        if i in list_answer:\n",
    "            answer += 1\n",
    "    return answer"
   ],
   "metadata": {
    "collapsed": false,
    "pycharm": {
     "name": "#%%\n"
    }
   }
  },
  {
   "cell_type": "code",
   "execution_count": 27,
   "outputs": [],
   "source": [
    "def real_answer(image_name):\n",
    "    count = -4\n",
    "    answer = []\n",
    "    temp_df = df_outer[df_outer['image_name'] == image_name]\n",
    "    for i in temp_df.columns:\n",
    "        if count >= 0 and int(temp_df[i].values[0]) == 1:\n",
    "            answer.append(count)\n",
    "        count += 1\n",
    "    return answer"
   ],
   "metadata": {
    "collapsed": false,
    "pycharm": {
     "name": "#%%\n"
    }
   }
  },
  {
   "cell_type": "code",
   "execution_count": null,
   "outputs": [],
   "source": [
    "img = image.load_img('C:/img/(116)IMG_1.jpg',target_size=(400,400,3))\n",
    "img = image.img_to_array(img)\n",
    "img = img/255\n",
    "print(reconstructed_model.predict(img.reshape(1,400,400,3))[0])\n",
    "count_correct_result(reconstructed_model.predict(img.reshape(1,400,400,3))[0], real_answer(\"(116)IMG_1.jpg\"))"
   ],
   "metadata": {
    "collapsed": false,
    "pycharm": {
     "name": "#%%\n"
    }
   }
  },
  {
   "cell_type": "code",
   "execution_count": 3,
   "outputs": [
    {
     "name": "stderr",
     "output_type": "stream",
     "text": [
      "100%|██████████| 300/300 [00:00<00:00, 298456.17it/s]\n"
     ]
    },
    {
     "ename": "ZeroDivisionError",
     "evalue": "division by zero",
     "output_type": "error",
     "traceback": [
      "\u001B[1;31m---------------------------------------------------------------------------\u001B[0m",
      "\u001B[1;31mZeroDivisionError\u001B[0m                         Traceback (most recent call last)",
      "\u001B[1;32mc:\\Temp/ipykernel_3576/1972691002.py\u001B[0m in \u001B[0;36m<module>\u001B[1;34m\u001B[0m\n\u001B[0;32m     14\u001B[0m     \u001B[1;32mexcept\u001B[0m\u001B[1;33m:\u001B[0m\u001B[1;33m\u001B[0m\u001B[1;33m\u001B[0m\u001B[0m\n\u001B[0;32m     15\u001B[0m         \u001B[1;32mcontinue\u001B[0m\u001B[1;33m\u001B[0m\u001B[1;33m\u001B[0m\u001B[0m\n\u001B[1;32m---> 16\u001B[1;33m \u001B[0mprint\u001B[0m\u001B[1;33m(\u001B[0m\u001B[1;34m\"Accuracy = \"\u001B[0m \u001B[1;33m+\u001B[0m \u001B[0mstr\u001B[0m\u001B[1;33m(\u001B[0m\u001B[0manswer\u001B[0m \u001B[1;33m/\u001B[0m \u001B[0msum\u001B[0m\u001B[1;33m)\u001B[0m\u001B[1;33m)\u001B[0m\u001B[1;33m\u001B[0m\u001B[1;33m\u001B[0m\u001B[0m\n\u001B[0m",
      "\u001B[1;31mZeroDivisionError\u001B[0m: division by zero"
     ]
    }
   ],
   "source": [
    "answer = 0\n",
    "sum = 0\n",
    "for i in tqdm(range(0, 300)):\n",
    "    try:\n",
    "        name = df_outer['image_name'][randint(1, 19841)]\n",
    "        if os.path.isfile('C:/img/' + name):\n",
    "            img = image.load_img('C:/img/' + name,target_size=(400,400,3))\n",
    "        if os.path.isfile('C:/img2/' + name):\n",
    "            img = image.load_img('C:/img2/' + name,target_size=(400,400,3))\n",
    "        img = image.img_to_array(img)\n",
    "        img = img/255\n",
    "        answer += count_correct_result(reconstructed_model.predict(img.reshape(1,400,400,3))[0], real_answer(name))\n",
    "        sum += 3\n",
    "    except:\n",
    "        continue\n",
    "print(\"Accuracy = \" + str(answer / sum))"
   ],
   "metadata": {
    "collapsed": false,
    "pycharm": {
     "name": "#%%\n"
    }
   }
  },
  {
   "cell_type": "code",
   "execution_count": 24,
   "outputs": [
    {
     "data": {
      "text/plain": "       image_id                                    image_name  image_height  \\\n0       1016704  1107-14428-14428 (2-1)-20200129-1 (2188).JPG           800   \n1       1016705  1107-14428-14428 (2-1)-20200129-1 (2189).JPG           800   \n2       1016706  1107-14428-14428 (2-1)-20200129-1 (2190).JPG           800   \n3        367088             158089482137760600_1359568660.jpg          1066   \n4        367093              158089482366643300_686358314.jpg          1066   \n...         ...                                           ...           ...   \n19836    931762                          20200929-1 (705).JPG           800   \n19837    931763                          20200929-1 (706).JPG           800   \n19838    931775                          20200929-1 (718).JPG           800   \n19839    931781                          20200929-1 (724).JPG           800   \n19840    931782                          20200929-1 (725).JPG           800   \n\n       image_width  outer_cate_가디건  outer_cate_베스트  outer_cate_재킷  \\\n0              800               0               0              0   \n1              800               0               0              0   \n2              800               0               0              0   \n3              800               0               0              1   \n4              800               0               0              1   \n...            ...             ...             ...            ...   \n19836          800               0               1              0   \n19837          800               0               1              0   \n19838          800               0               1              0   \n19839          800               0               1              0   \n19840          800               0               1              0   \n\n       outer_cate_점퍼  outer_cate_짚업  outer_cate_코트  ...  outer_mat_우븐  \\\n0                  0              1              0  ...             1   \n1                  0              1              0  ...             1   \n2                  0              1              0  ...             1   \n3                  0              0              0  ...             0   \n4                  0              0              0  ...             0   \n...              ...            ...            ...  ...           ...   \n19836              0              0              0  ...             0   \n19837              0              0              0  ...             0   \n19838              0              0              0  ...             0   \n19839              0              0              0  ...             0   \n19840              0              0              0  ...             0   \n\n       outer_mat_울/캐시미어  outer_mat_자카드  outer_mat_저지  outer_mat_코듀로이  \\\n0                     0              0             0               0   \n1                     0              0             0               0   \n2                     0              0             0               0   \n3                     0              0             0               0   \n4                     0              0             0               0   \n...                 ...            ...           ...             ...   \n19836                 0              0             0               0   \n19837                 0              0             0               0   \n19838                 0              0             0               0   \n19839                 0              0             0               0   \n19840                 0              0             0               0   \n\n       outer_mat_트위드  outer_mat_패딩  outer_mat_퍼  outer_mat_플리스  \\\n0                  0             0            0              0   \n1                  0             0            0              0   \n2                  0             0            0              0   \n3                  0             0            0              0   \n4                  0             0            0              0   \n...              ...           ...          ...            ...   \n19836              0             0            0              0   \n19837              0             0            0              0   \n19838              0             0            0              0   \n19839              0             0            0              0   \n19840              0             0            0              0   \n\n       outer_mat_헤어 니트  \n0                    0  \n1                    0  \n2                    0  \n3                    0  \n4                    0  \n...                ...  \n19836                0  \n19837                0  \n19838                0  \n19839                0  \n19840                0  \n\n[19841 rows x 39 columns]",
      "text/html": "<div>\n<style scoped>\n    .dataframe tbody tr th:only-of-type {\n        vertical-align: middle;\n    }\n\n    .dataframe tbody tr th {\n        vertical-align: top;\n    }\n\n    .dataframe thead th {\n        text-align: right;\n    }\n</style>\n<table border=\"1\" class=\"dataframe\">\n  <thead>\n    <tr style=\"text-align: right;\">\n      <th></th>\n      <th>image_id</th>\n      <th>image_name</th>\n      <th>image_height</th>\n      <th>image_width</th>\n      <th>outer_cate_가디건</th>\n      <th>outer_cate_베스트</th>\n      <th>outer_cate_재킷</th>\n      <th>outer_cate_점퍼</th>\n      <th>outer_cate_짚업</th>\n      <th>outer_cate_코트</th>\n      <th>...</th>\n      <th>outer_mat_우븐</th>\n      <th>outer_mat_울/캐시미어</th>\n      <th>outer_mat_자카드</th>\n      <th>outer_mat_저지</th>\n      <th>outer_mat_코듀로이</th>\n      <th>outer_mat_트위드</th>\n      <th>outer_mat_패딩</th>\n      <th>outer_mat_퍼</th>\n      <th>outer_mat_플리스</th>\n      <th>outer_mat_헤어 니트</th>\n    </tr>\n  </thead>\n  <tbody>\n    <tr>\n      <th>0</th>\n      <td>1016704</td>\n      <td>1107-14428-14428 (2-1)-20200129-1 (2188).JPG</td>\n      <td>800</td>\n      <td>800</td>\n      <td>0</td>\n      <td>0</td>\n      <td>0</td>\n      <td>0</td>\n      <td>1</td>\n      <td>0</td>\n      <td>...</td>\n      <td>1</td>\n      <td>0</td>\n      <td>0</td>\n      <td>0</td>\n      <td>0</td>\n      <td>0</td>\n      <td>0</td>\n      <td>0</td>\n      <td>0</td>\n      <td>0</td>\n    </tr>\n    <tr>\n      <th>1</th>\n      <td>1016705</td>\n      <td>1107-14428-14428 (2-1)-20200129-1 (2189).JPG</td>\n      <td>800</td>\n      <td>800</td>\n      <td>0</td>\n      <td>0</td>\n      <td>0</td>\n      <td>0</td>\n      <td>1</td>\n      <td>0</td>\n      <td>...</td>\n      <td>1</td>\n      <td>0</td>\n      <td>0</td>\n      <td>0</td>\n      <td>0</td>\n      <td>0</td>\n      <td>0</td>\n      <td>0</td>\n      <td>0</td>\n      <td>0</td>\n    </tr>\n    <tr>\n      <th>2</th>\n      <td>1016706</td>\n      <td>1107-14428-14428 (2-1)-20200129-1 (2190).JPG</td>\n      <td>800</td>\n      <td>800</td>\n      <td>0</td>\n      <td>0</td>\n      <td>0</td>\n      <td>0</td>\n      <td>1</td>\n      <td>0</td>\n      <td>...</td>\n      <td>1</td>\n      <td>0</td>\n      <td>0</td>\n      <td>0</td>\n      <td>0</td>\n      <td>0</td>\n      <td>0</td>\n      <td>0</td>\n      <td>0</td>\n      <td>0</td>\n    </tr>\n    <tr>\n      <th>3</th>\n      <td>367088</td>\n      <td>158089482137760600_1359568660.jpg</td>\n      <td>1066</td>\n      <td>800</td>\n      <td>0</td>\n      <td>0</td>\n      <td>1</td>\n      <td>0</td>\n      <td>0</td>\n      <td>0</td>\n      <td>...</td>\n      <td>0</td>\n      <td>0</td>\n      <td>0</td>\n      <td>0</td>\n      <td>0</td>\n      <td>0</td>\n      <td>0</td>\n      <td>0</td>\n      <td>0</td>\n      <td>0</td>\n    </tr>\n    <tr>\n      <th>4</th>\n      <td>367093</td>\n      <td>158089482366643300_686358314.jpg</td>\n      <td>1066</td>\n      <td>800</td>\n      <td>0</td>\n      <td>0</td>\n      <td>1</td>\n      <td>0</td>\n      <td>0</td>\n      <td>0</td>\n      <td>...</td>\n      <td>0</td>\n      <td>0</td>\n      <td>0</td>\n      <td>0</td>\n      <td>0</td>\n      <td>0</td>\n      <td>0</td>\n      <td>0</td>\n      <td>0</td>\n      <td>0</td>\n    </tr>\n    <tr>\n      <th>...</th>\n      <td>...</td>\n      <td>...</td>\n      <td>...</td>\n      <td>...</td>\n      <td>...</td>\n      <td>...</td>\n      <td>...</td>\n      <td>...</td>\n      <td>...</td>\n      <td>...</td>\n      <td>...</td>\n      <td>...</td>\n      <td>...</td>\n      <td>...</td>\n      <td>...</td>\n      <td>...</td>\n      <td>...</td>\n      <td>...</td>\n      <td>...</td>\n      <td>...</td>\n      <td>...</td>\n    </tr>\n    <tr>\n      <th>19836</th>\n      <td>931762</td>\n      <td>20200929-1 (705).JPG</td>\n      <td>800</td>\n      <td>800</td>\n      <td>0</td>\n      <td>1</td>\n      <td>0</td>\n      <td>0</td>\n      <td>0</td>\n      <td>0</td>\n      <td>...</td>\n      <td>0</td>\n      <td>0</td>\n      <td>0</td>\n      <td>0</td>\n      <td>0</td>\n      <td>0</td>\n      <td>0</td>\n      <td>0</td>\n      <td>0</td>\n      <td>0</td>\n    </tr>\n    <tr>\n      <th>19837</th>\n      <td>931763</td>\n      <td>20200929-1 (706).JPG</td>\n      <td>800</td>\n      <td>800</td>\n      <td>0</td>\n      <td>1</td>\n      <td>0</td>\n      <td>0</td>\n      <td>0</td>\n      <td>0</td>\n      <td>...</td>\n      <td>0</td>\n      <td>0</td>\n      <td>0</td>\n      <td>0</td>\n      <td>0</td>\n      <td>0</td>\n      <td>0</td>\n      <td>0</td>\n      <td>0</td>\n      <td>0</td>\n    </tr>\n    <tr>\n      <th>19838</th>\n      <td>931775</td>\n      <td>20200929-1 (718).JPG</td>\n      <td>800</td>\n      <td>800</td>\n      <td>0</td>\n      <td>1</td>\n      <td>0</td>\n      <td>0</td>\n      <td>0</td>\n      <td>0</td>\n      <td>...</td>\n      <td>0</td>\n      <td>0</td>\n      <td>0</td>\n      <td>0</td>\n      <td>0</td>\n      <td>0</td>\n      <td>0</td>\n      <td>0</td>\n      <td>0</td>\n      <td>0</td>\n    </tr>\n    <tr>\n      <th>19839</th>\n      <td>931781</td>\n      <td>20200929-1 (724).JPG</td>\n      <td>800</td>\n      <td>800</td>\n      <td>0</td>\n      <td>1</td>\n      <td>0</td>\n      <td>0</td>\n      <td>0</td>\n      <td>0</td>\n      <td>...</td>\n      <td>0</td>\n      <td>0</td>\n      <td>0</td>\n      <td>0</td>\n      <td>0</td>\n      <td>0</td>\n      <td>0</td>\n      <td>0</td>\n      <td>0</td>\n      <td>0</td>\n    </tr>\n    <tr>\n      <th>19840</th>\n      <td>931782</td>\n      <td>20200929-1 (725).JPG</td>\n      <td>800</td>\n      <td>800</td>\n      <td>0</td>\n      <td>1</td>\n      <td>0</td>\n      <td>0</td>\n      <td>0</td>\n      <td>0</td>\n      <td>...</td>\n      <td>0</td>\n      <td>0</td>\n      <td>0</td>\n      <td>0</td>\n      <td>0</td>\n      <td>0</td>\n      <td>0</td>\n      <td>0</td>\n      <td>0</td>\n      <td>0</td>\n    </tr>\n  </tbody>\n</table>\n<p>19841 rows × 39 columns</p>\n</div>"
     },
     "execution_count": 24,
     "metadata": {},
     "output_type": "execute_result"
    }
   ],
   "source": [
    "df_outer"
   ],
   "metadata": {
    "collapsed": false,
    "pycharm": {
     "name": "#%%\n"
    }
   }
  }
 ],
 "metadata": {
  "kernelspec": {
   "display_name": "Python 3",
   "language": "python",
   "name": "python3"
  },
  "language_info": {
   "codemirror_mode": {
    "name": "ipython",
    "version": 2
   },
   "file_extension": ".py",
   "mimetype": "text/x-python",
   "name": "python",
   "nbconvert_exporter": "python",
   "pygments_lexer": "ipython2",
   "version": "2.7.6"
  }
 },
 "nbformat": 4,
 "nbformat_minor": 0
}