{
 "cells": [
  {
   "cell_type": "code",
   "execution_count": null,
   "metadata": {
    "collapsed": true
   },
   "outputs": [],
   "source": [
    "from keras.preprocessing import image\n",
    "from tqdm import tqdm"
   ]
  },
  {
   "cell_type": "code",
   "execution_count": null,
   "outputs": [],
   "source": [
    "# 테스팅할 때 '카테고리'와 '소매기장'에 각각 소속하는 클래스를 구분해내기 위한 커스텀 함수\n",
    "def find_best_indices_for_each_big_class(sorted_indices):\n",
    "    sorted_indices_arr = sorted_indices.tolist()\n",
    "    highest_index = sorted_indices_arr[-1]\n",
    "    leftovers = sorted_indices_arr[:-1]\n",
    "\n",
    "    best = [highest_index]\n",
    "    category_class = range(0,7)\n",
    "    sleeve_class = range(7,13)\n",
    "    for num in reversed(leftovers):\n",
    "\t\t\t\t# 가장 높아서 먼저 뽑힌 애가 '카테고리' 관련 클래스였다면\n",
    "        if highest_index in category_class:\n",
    "            if num in sleeve_class:\n",
    "                best.append(num)\n",
    "                break\n",
    "        elif highest_index in sleeve_class: # '소매기장' 관련 클래스였다면\n",
    "            if num in category_class:\n",
    "                best.append(num)\n",
    "                break\n",
    "    return sorted(best)\n",
    "\n",
    "correct = 0.\n",
    "total = 0.\n",
    "\n",
    "for counter, data in tqdm(enumerate(test_loader), total=int(len(test_data)/test_loader.batch_size) ):\n",
    "    image = data['image'].to(device)\n",
    "    target = data['label'].to(device)\n",
    "    # get all the index positions where value == 1 (정답 가져오기)\n",
    "    target_indices = [i for i in range(len(target[0])) if target[0][i] == 1]\n",
    "    # get the predictions by passing the image through the model (예측값 가져오기)\n",
    "    outputs = model(image)\n",
    "    outputs = torch.sigmoid(outputs)\n",
    "    outputs = outputs.detach().cpu()\n",
    "    sorted_indices = np.argsort(outputs[0])\n",
    "    # best = sorted_indices[-3:] # 이거 대신 아래처럼\n",
    "\t\t# 최상위 '카테고리'와 '소매기장' 1개씩 list에 담아 리턴\n",
    "    best = find_best_indices_for_each_big_class(sorted_indices)\n",
    "\n",
    "\t\t# ACCURACY 찍기\n",
    "    total += target.size(0) # accumulate to dataset total size\n",
    "    # calculate how many images were correctly classified\n",
    "    correct_count = len(set(target_indices).intersection(best))\n",
    "    correct += correct_count\n",
    "\n",
    "print(\"correct\", correct, \"total\", total)\n",
    "accuracy = 100 * correct / (total*2)\n",
    "print(\"Accuracy: {}%\".format(accuracy))"
   ],
   "metadata": {
    "collapsed": false,
    "pycharm": {
     "name": "#%%\n"
    }
   }
  }
 ],
 "metadata": {
  "kernelspec": {
   "display_name": "Python 3",
   "language": "python",
   "name": "python3"
  },
  "language_info": {
   "codemirror_mode": {
    "name": "ipython",
    "version": 2
   },
   "file_extension": ".py",
   "mimetype": "text/x-python",
   "name": "python",
   "nbconvert_exporter": "python",
   "pygments_lexer": "ipython2",
   "version": "2.7.6"
  }
 },
 "nbformat": 4,
 "nbformat_minor": 0
}