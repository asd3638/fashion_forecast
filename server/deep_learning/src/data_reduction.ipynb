{
 "cells": [
  {
   "cell_type": "code",
   "execution_count": 1,
   "id": "ac48e8af",
   "metadata": {},
   "outputs": [],
   "source": [
    "# vscode에서 jupyter notebook 사용하려고 삽질할때 참고한 자료들:\n",
    "# [Anaconda 가상환경 개념이해] https://yganalyst.github.io/pythonic/anaconda_env_1/\n",
    "# [관리자권한 실행으로 해결] https://3rdscholar.tistory.com/81\n",
    "from tqdm import tqdm\n",
    "from glob import glob\n",
    "from ast import literal_eval\n",
    "import pandas as pd\n",
    "import json\n",
    "import csv\n",
    "import os"
   ]
  },
  {
   "cell_type": "code",
   "execution_count": 2,
   "id": "6564a11c",
   "metadata": {},
   "outputs": [],
   "source": [
    "# \"라벨링데이터\" 하위에 있는 모든 json파일 읽어오기 https://blr.design/blog/python-multiple-json-to-csv/\n",
    "base = \"../../\"\n",
    "files = glob(os.path.join(base, \"k-fashion-dataset\", \"Training\", \"labels\", \"*\", \"*\"), recursive=True)\n",
    "# Validation 해당 데이터들도 마찬가지로 처리해주기\n",
    "# files = glob(os.path.join(base, \"k-fashion-dataset\", \"Validation\", \"labels\", \"*\", \"*\"), recursive=True)"
   ]
  },
  {
   "cell_type": "code",
   "execution_count": 4,
   "id": "b957d632",
   "metadata": {},
   "outputs": [],
   "source": [
    "len(files)"
   ]
  },
  {
   "cell_type": "code",
   "execution_count": 8,
   "id": "43a24b74",
   "metadata": {},
   "outputs": [],
   "source": [
    "# 읽어온 각각의 json을 필요한 정보만 뽑아서 row 하나로 만들기\n",
    "data = []\n",
    "for single_file in tqdm(files[:3]):\n",
    "    with open(single_file, 'r', encoding='utf-8') as f:\n",
    "        # Use 'try-except' to skip files that may be missing data\n",
    "        try:\n",
    "            json_file = json.load(f)\n",
    "            file_id = json_file[\"데이터셋 정보\"][\"파일 번호\"]\n",
    "            file_name = json_file[\"데이터셋 정보\"][\"파일 이름\"]\n",
    "            top = json_file[\"데이터셋 정보\"][\"데이터셋 상세설명\"][\"라벨링\"][\"상의\"][0]\n",
    "            data.append([file_id, file_name, top])\n",
    "        except KeyError:\n",
    "            print(f'Skipping {single_file}')\n",
    "# Add header\n",
    "data.insert(0, ['ID', 'File Name', 'Top'])\n",
    "print(\"ALL DONE!\")"
   ]
  },
  {
   "cell_type": "code",
   "execution_count": 9,
   "id": "db981b6a",
   "metadata": {},
   "outputs": [],
   "source": [
    "len(data)"
   ]
  },
  {
   "cell_type": "code",
   "execution_count": 7,
   "id": "7ffbd6ea",
   "metadata": {},
   "outputs": [
    {
     "name": "stdout",
     "output_type": "stream",
     "text": [
      "Updated CSV\n"
     ]
    }
   ],
   "source": [
    "# csv로 변환\n",
    "csv_filename = 'train2.csv'\n",
    "with open(csv_filename, \"w\", encoding='utf-8', newline=\"\") as f:\n",
    "    writer = csv.writer(f)\n",
    "    writer.writerows(data)\n",
    "\n",
    "print(\"Updated CSV\")"
   ]
  },
  {
   "cell_type": "code",
   "execution_count": 8,
   "id": "71d9869a",
   "metadata": {},
   "outputs": [],
   "source": [
    "# csv칼럼 내부 json 객체 flatten하기\n",
    "# https://stackoverflow.com/questions/39899005/how-to-flatten-a-pandas-dataframe-with-some-columns-as-json\n",
    "train = pd.read_csv('train2.csv',\n",
    "                    converters = {'Top': literal_eval},\n",
    "                    encoding='utf-8') # reading the csv file"
   ]
  },
  {
   "cell_type": "code",
   "execution_count": 9,
   "id": "5d6a0f52",
   "metadata": {},
   "outputs": [
    {
     "data": {
      "text/html": [
       "<div>\n",
       "<style scoped>\n",
       "    .dataframe tbody tr th:only-of-type {\n",
       "        vertical-align: middle;\n",
       "    }\n",
       "\n",
       "    .dataframe tbody tr th {\n",
       "        vertical-align: top;\n",
       "    }\n",
       "\n",
       "    .dataframe thead th {\n",
       "        text-align: right;\n",
       "    }\n",
       "</style>\n",
       "<table border=\"1\" class=\"dataframe\">\n",
       "  <thead>\n",
       "    <tr style=\"text-align: right;\">\n",
       "      <th></th>\n",
       "      <th>ID</th>\n",
       "      <th>File Name</th>\n",
       "      <th>Top</th>\n",
       "    </tr>\n",
       "  </thead>\n",
       "  <tbody>\n",
       "    <tr>\n",
       "      <th>0</th>\n",
       "      <td>703911</td>\n",
       "      <td>(116)IMG_1.jpg</td>\n",
       "      <td>{'색상': '네이비', '서브색상': '베이지', '카테고리': '블라우스', '...</td>\n",
       "    </tr>\n",
       "    <tr>\n",
       "      <th>1</th>\n",
       "      <td>703912</td>\n",
       "      <td>(117)IMG_1.jpg</td>\n",
       "      <td>{'색상': '네이비', '서브색상': '베이지', '카테고리': '블라우스', '...</td>\n",
       "    </tr>\n",
       "    <tr>\n",
       "      <th>2</th>\n",
       "      <td>703913</td>\n",
       "      <td>(118)IMG_1.jpg</td>\n",
       "      <td>{'색상': '네이비', '서브색상': '베이지', '카테고리': '블라우스', '...</td>\n",
       "    </tr>\n",
       "    <tr>\n",
       "      <th>3</th>\n",
       "      <td>703914</td>\n",
       "      <td>(119)IMG_1.jpg</td>\n",
       "      <td>{'색상': '네이비', '서브색상': '베이지', '카테고리': '블라우스', '...</td>\n",
       "    </tr>\n",
       "    <tr>\n",
       "      <th>4</th>\n",
       "      <td>703917</td>\n",
       "      <td>(122)IMG_1.jpg</td>\n",
       "      <td>{'색상': '네이비', '서브색상': '베이지', '카테고리': '블라우스', '...</td>\n",
       "    </tr>\n",
       "    <tr>\n",
       "      <th>...</th>\n",
       "      <td>...</td>\n",
       "      <td>...</td>\n",
       "      <td>...</td>\n",
       "    </tr>\n",
       "    <tr>\n",
       "      <th>29995</th>\n",
       "      <td>1267305</td>\n",
       "      <td>20201117_001352_나염주름바지-158806142336533100_8018...</td>\n",
       "      <td>{}</td>\n",
       "    </tr>\n",
       "    <tr>\n",
       "      <th>29996</th>\n",
       "      <td>1267306</td>\n",
       "      <td>20201117_001352_나염주름바지-158806142379606500_5264...</td>\n",
       "      <td>{}</td>\n",
       "    </tr>\n",
       "    <tr>\n",
       "      <th>29997</th>\n",
       "      <td>1267316</td>\n",
       "      <td>20201117_001420_마버튼PT (6color)-158806137332809...</td>\n",
       "      <td>{'색상': '오렌지', '서브색상': '화이트', '카테고리': '티셔츠', '소...</td>\n",
       "    </tr>\n",
       "    <tr>\n",
       "      <th>29998</th>\n",
       "      <td>1267319</td>\n",
       "      <td>20201117_001420_마버튼PT (6color)-158806137689872...</td>\n",
       "      <td>{}</td>\n",
       "    </tr>\n",
       "    <tr>\n",
       "      <th>29999</th>\n",
       "      <td>1267320</td>\n",
       "      <td>20201117_001420_마버튼PT (6color)-158806137752962...</td>\n",
       "      <td>{}</td>\n",
       "    </tr>\n",
       "  </tbody>\n",
       "</table>\n",
       "<p>30000 rows × 3 columns</p>\n",
       "</div>"
      ],
      "text/plain": [
       "            ID                                          File Name  \\\n",
       "0       703911                                     (116)IMG_1.jpg   \n",
       "1       703912                                     (117)IMG_1.jpg   \n",
       "2       703913                                     (118)IMG_1.jpg   \n",
       "3       703914                                     (119)IMG_1.jpg   \n",
       "4       703917                                     (122)IMG_1.jpg   \n",
       "...        ...                                                ...   \n",
       "29995  1267305  20201117_001352_나염주름바지-158806142336533100_8018...   \n",
       "29996  1267306  20201117_001352_나염주름바지-158806142379606500_5264...   \n",
       "29997  1267316  20201117_001420_마버튼PT (6color)-158806137332809...   \n",
       "29998  1267319  20201117_001420_마버튼PT (6color)-158806137689872...   \n",
       "29999  1267320  20201117_001420_마버튼PT (6color)-158806137752962...   \n",
       "\n",
       "                                                     Top  \n",
       "0      {'색상': '네이비', '서브색상': '베이지', '카테고리': '블라우스', '...  \n",
       "1      {'색상': '네이비', '서브색상': '베이지', '카테고리': '블라우스', '...  \n",
       "2      {'색상': '네이비', '서브색상': '베이지', '카테고리': '블라우스', '...  \n",
       "3      {'색상': '네이비', '서브색상': '베이지', '카테고리': '블라우스', '...  \n",
       "4      {'색상': '네이비', '서브색상': '베이지', '카테고리': '블라우스', '...  \n",
       "...                                                  ...  \n",
       "29995                                                 {}  \n",
       "29996                                                 {}  \n",
       "29997  {'색상': '오렌지', '서브색상': '화이트', '카테고리': '티셔츠', '소...  \n",
       "29998                                                 {}  \n",
       "29999                                                 {}  \n",
       "\n",
       "[30000 rows x 3 columns]"
      ]
     },
     "execution_count": 9,
     "metadata": {},
     "output_type": "execute_result"
    }
   ],
   "source": [
    "train"
   ]
  },
  {
   "cell_type": "code",
   "execution_count": 10,
   "id": "c54b0fad",
   "metadata": {},
   "outputs": [],
   "source": [
    "TOP = pd.json_normalize(train[\"Top\"])\n",
    "flattened = train[['ID', 'File Name']].join(TOP)\n",
    "flattened"
   ]
  },
  {
   "cell_type": "code",
   "execution_count": 11,
   "id": "00766fc8",
   "metadata": {
    "scrolled": true
   },
   "outputs": [],
   "source": [
    "# 우리 모델에 필요한 칼럼만 남기기\n",
    "dropped = flattened[['ID', 'File Name', '카테고리','소매기장']]\n",
    "dropped"
   ]
  },
  {
   "cell_type": "code",
   "execution_count": 13,
   "id": "32f6878a",
   "metadata": {},
   "outputs": [],
   "source": [
    "# one-hot 인코딩 하기\n",
    "pd.set_option('display.max_columns', None)\n",
    "targets = dropped.columns[2:]\n",
    "final = pd.get_dummies(dropped, columns=targets, prefix_sep=\"_\")"
   ]
  },
  {
   "cell_type": "code",
   "execution_count": 12,
   "id": "04545260",
   "metadata": {},
   "outputs": [],
   "source": [
    "final"
   ]
  },
  {
   "cell_type": "code",
   "execution_count": 15,
   "id": "10c8487e",
   "metadata": {},
   "outputs": [
    {
     "name": "stdout",
     "output_type": "stream",
     "text": [
      "CSV Saved\n"
     ]
    }
   ],
   "source": [
    "# ***주의***\n",
    "final.to_csv(os.path.join(base, \"machine-learning\", \"input\", \"preprocessed_train_ALL.csv\"),\n",
    "             index = False,\n",
    "             encoding='utf-8-sig')\n",
    "print(\"CSV Saved\")"
   ]
  }
 ],
 "metadata": {
  "kernelspec": {
   "name": "python3",
   "display_name": "Python 3.8.8 64-bit ('conda': conda)"
  },
  "language_info": {
   "codemirror_mode": {
    "name": "ipython",
    "version": 3
   },
   "file_extension": ".py",
   "mimetype": "text/x-python",
   "name": "python",
   "nbconvert_exporter": "python",
   "pygments_lexer": "ipython3",
   "version": "3.8.8"
  },
  "interpreter": {
   "hash": "bb5a7e3273ef10f3162290e2abe58075066671a71cdcf85930b83a6ecbbb7720"
  }
 },
 "nbformat": 4,
 "nbformat_minor": 5
}